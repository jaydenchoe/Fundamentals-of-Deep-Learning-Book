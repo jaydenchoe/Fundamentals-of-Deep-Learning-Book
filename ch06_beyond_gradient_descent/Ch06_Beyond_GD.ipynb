{
  "nbformat": 4,
  "nbformat_minor": 0,
  "metadata": {
    "colab": {
      "name": "Ch06_Beyond_GD.ipynb",
      "provenance": [],
      "include_colab_link": true
    },
    "kernelspec": {
      "name": "python3",
      "display_name": "Python 3"
    },
    "language_info": {
      "name": "python"
    }
  },
  "cells": [
    {
      "cell_type": "markdown",
      "metadata": {
        "id": "view-in-github",
        "colab_type": "text"
      },
      "source": [
        "<a href=\"https://colab.research.google.com/github/jaydenchoe/Fundamentals-of-Deep-Learning-Book/blob/master/ch06_beyond_gradient_descent/Ch06_Beyond_GD.ipynb\" target=\"_parent\"><img src=\"https://colab.research.google.com/assets/colab-badge.svg\" alt=\"Open In Colab\"/></a>"
      ]
    },
    {
      "cell_type": "markdown",
      "metadata": {
        "id": "eZe-ophGpSgq"
      },
      "source": [
        "# Preparation\n",
        "We need to load reference model for code examples in this section. First, we will train the model in this runtime."
      ]
    },
    {
      "cell_type": "code",
      "metadata": {
        "id": "NGS1YDZtEEni"
      },
      "source": [
        "import torch\n",
        "import torch.nn as nn\n",
        "from torchvision.datasets import MNIST\n",
        "from torchvision.transforms import ToTensor\n",
        "from torch.utils.data import DataLoader\n",
        "from torch import optim"
      ],
      "execution_count": 1,
      "outputs": []
    },
    {
      "cell_type": "code",
      "metadata": {
        "id": "bpUSHm4hEsZR",
        "colab": {
          "base_uri": "https://localhost:8080/"
        },
        "outputId": "189848ea-221e-41e3-b4e0-d8d21396b435"
      },
      "source": [
        "# For reproducability\n",
        "torch.manual_seed(0)"
      ],
      "execution_count": 2,
      "outputs": [
        {
          "output_type": "execute_result",
          "data": {
            "text/plain": [
              "<torch._C.Generator at 0x7f665334fe90>"
            ]
          },
          "metadata": {},
          "execution_count": 2
        }
      ]
    },
    {
      "cell_type": "code",
      "metadata": {
        "id": "wJFD-0MsEJnC"
      },
      "source": [
        "class Net(nn.Module):\n",
        "  def __init__(self, in_dim, feature_dim, out_dim):\n",
        "    super(Net, self).__init__()\n",
        "    self.classifier = nn.Sequential(\n",
        "        nn.Flatten(),\n",
        "        nn.Linear(in_dim, feature_dim),\n",
        "        nn.ReLU(),\n",
        "        nn.Linear(feature_dim, feature_dim),\n",
        "        nn.ReLU(),\n",
        "        nn.Linear(feature_dim, out_dim),\n",
        "        nn.ReLU()\n",
        "    )\n",
        "\n",
        "  def forward(self, inputs):\n",
        "    return self.classifier(inputs)"
      ],
      "execution_count": 3,
      "outputs": []
    },
    {
      "cell_type": "code",
      "metadata": {
        "id": "zjbb9aXVEP7Y",
        "colab": {
          "base_uri": "https://localhost:8080/"
        },
        "outputId": "887e5d99-a83a-4d44-8ff1-5893c7be3391"
      },
      "source": [
        "trainset = MNIST('.', train=True, download=True,\n",
        "                      transform=ToTensor())\n",
        "testset = MNIST('.', train=False, download=True,\n",
        "                      transform=ToTensor())\n",
        "trainloader = DataLoader(trainset, batch_size=64, shuffle=True)\n",
        "testloader = DataLoader(testset, batch_size=64, shuffle=False)"
      ],
      "execution_count": 4,
      "outputs": [
        {
          "output_type": "stream",
          "name": "stderr",
          "text": [
            "100%|██████████| 9.91M/9.91M [00:00<00:00, 55.7MB/s]\n",
            "100%|██████████| 28.9k/28.9k [00:00<00:00, 1.64MB/s]\n",
            "100%|██████████| 1.65M/1.65M [00:00<00:00, 14.0MB/s]\n",
            "100%|██████████| 4.54k/4.54k [00:00<00:00, 8.81MB/s]\n"
          ]
        }
      ]
    },
    {
      "cell_type": "markdown",
      "source": [
        "# NOTE:\n",
        "The training loop below will take approx. 5-6 minutes to run with epochs = 40.\n",
        "\n",
        "You can use a smaller value if you don't want to train that long."
      ],
      "metadata": {
        "id": "SeFMcy0P7m8H"
      }
    },
    {
      "cell_type": "code",
      "metadata": {
        "colab": {
          "base_uri": "https://localhost:8080/"
        },
        "id": "XlDyN5R2ETdh",
        "outputId": "835bb5e1-623c-4ed1-ee2d-ff6892a90870"
      },
      "source": [
        "IN_DIM, FEATURE_DIM, OUT_DIM = 784, 256, 10\n",
        "lr = 1e-4\n",
        "loss_fn = nn.CrossEntropyLoss()\n",
        "num_epochs = 40\n",
        "classifier = Net(IN_DIM, FEATURE_DIM, OUT_DIM)\n",
        "optimizer = optim.SGD(classifier.parameters(), lr=lr)\n",
        "classifier"
      ],
      "execution_count": 5,
      "outputs": [
        {
          "output_type": "execute_result",
          "data": {
            "text/plain": [
              "Net(\n",
              "  (classifier): Sequential(\n",
              "    (0): Flatten(start_dim=1, end_dim=-1)\n",
              "    (1): Linear(in_features=784, out_features=256, bias=True)\n",
              "    (2): ReLU()\n",
              "    (3): Linear(in_features=256, out_features=256, bias=True)\n",
              "    (4): ReLU()\n",
              "    (5): Linear(in_features=256, out_features=10, bias=True)\n",
              "    (6): ReLU()\n",
              "  )\n",
              ")"
            ]
          },
          "metadata": {},
          "execution_count": 5
        }
      ]
    },
    {
      "cell_type": "code",
      "metadata": {
        "colab": {
          "base_uri": "https://localhost:8080/"
        },
        "id": "EyaAM2ZmEW45",
        "outputId": "59ed4a06-d6ab-45be-ab5c-c59ce1c102cd"
      },
      "source": [
        "for epochs in range(num_epochs):\n",
        "  running_loss = 0.0\n",
        "  for inputs, labels in trainloader:\n",
        "    optimizer.zero_grad()\n",
        "    outputs = classifier(inputs)\n",
        "    loss = loss_fn(outputs, labels)\n",
        "    loss.backward()\n",
        "    running_loss += loss.item()\n",
        "    optimizer.step()\n",
        "  print(running_loss/len(trainloader))\n"
      ],
      "execution_count": 6,
      "outputs": [
        {
          "output_type": "stream",
          "name": "stdout",
          "text": [
            "2.304971021629854\n",
            "2.302525177184961\n",
            "2.2999572408224727\n",
            "2.297387819300328\n",
            "2.2948724689768323\n",
            "2.2923909133431244\n",
            "2.2899169316932335\n",
            "2.2874326309415576\n",
            "2.2849312532685206\n",
            "2.2823666771337674\n",
            "2.279773568547865\n",
            "2.277095668097295\n",
            "2.2743574454586133\n",
            "2.2715469700441178\n",
            "2.2686460015616183\n",
            "2.2656551383451613\n",
            "2.2625733143739355\n",
            "2.25938457263304\n",
            "2.256069577579051\n",
            "2.2526530187521407\n",
            "2.24906985261547\n",
            "2.245353311363822\n",
            "2.241465605398231\n",
            "2.2374240269284766\n",
            "2.233188003110987\n",
            "2.22873736215807\n",
            "2.2240895586989837\n",
            "2.219208477402547\n",
            "2.214078104826433\n",
            "2.2086960364506445\n",
            "2.203050907995147\n",
            "2.1971163975912877\n",
            "2.190842768530856\n",
            "2.184254694849189\n",
            "2.177343903319922\n",
            "2.170090690096304\n",
            "2.1624150942129368\n",
            "2.15434732899737\n",
            "2.145897203162789\n",
            "2.1369684596559892\n"
          ]
        }
      ]
    },
    {
      "cell_type": "code",
      "metadata": {
        "colab": {
          "base_uri": "https://localhost:8080/"
        },
        "id": "UB7IVP22EctT",
        "outputId": "7522dab5-a4dc-4bfc-85ec-c48a316f33fd"
      },
      "source": [
        "model = classifier\n",
        "print(\"Model's state_dict:\")\n",
        "for param_tensor in model.state_dict():\n",
        "    print(param_tensor, \"\\t\",\n",
        "          model.state_dict()[param_tensor].size())\n",
        "\n",
        "# out:\n",
        "# Model's state_dict:\n",
        "# classifier.1.weight \ttorch.Size([256, 784])\n",
        "# classifier.1.bias \t  torch.Size([256])\n",
        "# classifier.3.weight \ttorch.Size([256, 256])\n",
        "# classifier.3.bias \t  torch.Size([256])\n",
        "# classifier.5.weight \ttorch.Size([10, 256])\n",
        "# classifier.5.bias \t  torch.Size([10])"
      ],
      "execution_count": 7,
      "outputs": [
        {
          "output_type": "stream",
          "name": "stdout",
          "text": [
            "Model's state_dict:\n",
            "classifier.1.weight \t torch.Size([256, 784])\n",
            "classifier.1.bias \t torch.Size([256])\n",
            "classifier.3.weight \t torch.Size([256, 256])\n",
            "classifier.3.bias \t torch.Size([256])\n",
            "classifier.5.weight \t torch.Size([10, 256])\n",
            "classifier.5.bias \t torch.Size([10])\n"
          ]
        }
      ]
    },
    {
      "cell_type": "code",
      "metadata": {
        "id": "OogWxCy6EdZ4"
      },
      "source": [
        "# Save state to file as checkpoint\n",
        "torch.save(model.state_dict(), 'mnist.pt')"
      ],
      "execution_count": 8,
      "outputs": []
    },
    {
      "cell_type": "markdown",
      "metadata": {
        "id": "idsehQ6qEDQD"
      },
      "source": [
        "# How Pesky Are Spurious Local Minima in Deep Networks?"
      ]
    },
    {
      "cell_type": "code",
      "metadata": {
        "id": "5yXeAzIfFP-g",
        "colab": {
          "base_uri": "https://localhost:8080/"
        },
        "outputId": "1459dacb-2c93-4d6a-c3ef-7c98fbd06f31"
      },
      "source": [
        "# Load checkpoint from SGD training\n",
        "IN_DIM, FEATURE_DIM, OUT_DIM = 784, 256, 10\n",
        "model = Net(IN_DIM, FEATURE_DIM, OUT_DIM)\n",
        "\n",
        "model.load_state_dict(torch.load('mnist.pt'))"
      ],
      "execution_count": 9,
      "outputs": [
        {
          "output_type": "execute_result",
          "data": {
            "text/plain": [
              "<All keys matched successfully>"
            ]
          },
          "metadata": {},
          "execution_count": 9
        }
      ]
    },
    {
      "cell_type": "code",
      "metadata": {
        "colab": {
          "base_uri": "https://localhost:8080/"
        },
        "id": "iQGy-JJJMVVl",
        "outputId": "f0c81f2c-b16e-4400-9276-71c8134443b1"
      },
      "source": [
        "import copy\n",
        "\n",
        "# Access parameters with state_dict\n",
        "opt_state_dict = copy.deepcopy(model.state_dict())\n",
        "\n",
        "for param_tensor in opt_state_dict:\n",
        "    print(param_tensor, \"\\t\",\n",
        "          opt_state_dict[param_tensor].size())\n",
        "\n",
        "# outputs:\n",
        "# classifier.1.weight \ttorch.Size([256, 784])\n",
        "# classifier.1.bias \t  torch.Size([256])\n",
        "# classifier.3.weight \ttorch.Size([256, 256])\n",
        "# classifier.3.bias \t  torch.Size([256])\n",
        "# classifier.5.weight \ttorch.Size([10, 256])\n",
        "# classifier.5.bias \t  torch.Size([10])"
      ],
      "execution_count": 10,
      "outputs": [
        {
          "output_type": "stream",
          "name": "stdout",
          "text": [
            "classifier.1.weight \t torch.Size([256, 784])\n",
            "classifier.1.bias \t torch.Size([256])\n",
            "classifier.3.weight \t torch.Size([256, 256])\n",
            "classifier.3.bias \t torch.Size([256])\n",
            "classifier.5.weight \t torch.Size([10, 256])\n",
            "classifier.5.bias \t torch.Size([10])\n"
          ]
        }
      ]
    },
    {
      "cell_type": "code",
      "metadata": {
        "id": "4kG9qHhuGn_I"
      },
      "source": [
        "# Create randomly initialized network\n",
        "model_rand = Net(IN_DIM, FEATURE_DIM, OUT_DIM)\n",
        "rand_state_dict = copy.deepcopy(model_rand.state_dict())"
      ],
      "execution_count": 11,
      "outputs": []
    },
    {
      "cell_type": "code",
      "metadata": {
        "id": "IIHgvu9SK9Ih"
      },
      "source": [
        "# Create a new state_dict for interpolated parameters\n",
        "test_model = Net(IN_DIM, FEATURE_DIM, OUT_DIM)\n",
        "test_state_dict = copy.deepcopy(test_model.state_dict())\n",
        "\n",
        "alpha = 0.2\n",
        "beta = 1.0 - alpha\n",
        "for p in opt_state_dict:\n",
        "    test_state_dict[p] = (opt_state_dict[p] * beta +\n",
        "                          rand_state_dict[p] * alpha)"
      ],
      "execution_count": 12,
      "outputs": []
    },
    {
      "cell_type": "code",
      "metadata": {
        "id": "21HXdIYvDCOC"
      },
      "source": [
        "def inference(testloader, model, loss_fn):\n",
        "  running_loss = 0.0\n",
        "  with torch.no_grad():\n",
        "    for inputs, labels in testloader:\n",
        "      outputs = model(inputs)\n",
        "      loss = loss_fn(outputs, labels)\n",
        "      running_loss += loss\n",
        "  running_loss /= len(testloader)\n",
        "  return running_loss"
      ],
      "execution_count": 13,
      "outputs": []
    },
    {
      "cell_type": "code",
      "metadata": {
        "colab": {
          "base_uri": "https://localhost:8080/"
        },
        "id": "udtw5Xd7M1IR",
        "outputId": "38a653ca-ca84-4402-ee09-814f2954ede1"
      },
      "source": [
        "opt_state_dict['classifier.1.weight'][0][0]"
      ],
      "execution_count": 14,
      "outputs": [
        {
          "output_type": "execute_result",
          "data": {
            "text/plain": [
              "tensor(-0.0003)"
            ]
          },
          "metadata": {},
          "execution_count": 14
        }
      ]
    },
    {
      "cell_type": "code",
      "metadata": {
        "id": "L7lIz_9lNah9",
        "colab": {
          "base_uri": "https://localhost:8080/"
        },
        "outputId": "584997d0-fec7-4105-ff38-c47a945cc312"
      },
      "source": [
        "results = []\n",
        "for alpha in torch.arange(-2, 2, 0.05):\n",
        "  beta = 1.0 - alpha\n",
        "\n",
        "  # Compute interpolated parameters\n",
        "  for p in opt_state_dict:\n",
        "    test_state_dict[p] = (opt_state_dict[p] * beta +\n",
        "                          rand_state_dict[p] * alpha)\n",
        "\n",
        "  # Load interpolated parameters into test model\n",
        "  model.load_state_dict(test_state_dict)\n",
        "\n",
        "  # Compute Loss given interpolated parameters\n",
        "  loss = inference(trainloader, model, loss_fn)\n",
        "  results.append(loss.item())\n",
        "  print(loss.item())\n"
      ],
      "execution_count": 15,
      "outputs": [
        {
          "output_type": "stream",
          "name": "stdout",
          "text": [
            "2.1099166870117188\n",
            "2.0415542125701904\n",
            "1.9778268337249756\n",
            "1.9189608097076416\n",
            "1.8641693592071533\n",
            "1.8136402368545532\n",
            "1.7681132555007935\n",
            "1.7261065244674683\n",
            "1.6895521879196167\n",
            "1.6571030616760254\n",
            "1.6293619871139526\n",
            "1.6062939167022705\n",
            "1.5873630046844482\n",
            "1.5733517408370972\n",
            "1.5633418560028076\n",
            "1.5577805042266846\n",
            "1.5563966035842896\n",
            "1.5588659048080444\n",
            "1.5651392936706543\n",
            "1.574957013130188\n",
            "1.5884032249450684\n",
            "1.6046956777572632\n",
            "1.6239042282104492\n",
            "1.6455475091934204\n",
            "1.6694949865341187\n",
            "1.6954245567321777\n",
            "1.7229918241500854\n",
            "1.75186026096344\n",
            "1.7819695472717285\n",
            "1.8126815557479858\n",
            "1.844046711921692\n",
            "1.8755234479904175\n",
            "1.9069535732269287\n",
            "1.938136100769043\n",
            "1.9687857627868652\n",
            "1.9987164735794067\n",
            "2.0277819633483887\n",
            "2.055727005004883\n",
            "2.082671880722046\n",
            "2.108156681060791\n",
            "2.1323747634887695\n",
            "2.155137538909912\n",
            "2.1763975620269775\n",
            "2.1960811614990234\n",
            "2.214101791381836\n",
            "2.2304604053497314\n",
            "2.245029926300049\n",
            "2.257768154144287\n",
            "2.2686047554016113\n",
            "2.277557611465454\n",
            "2.2848060131073\n",
            "2.290665864944458\n",
            "2.295278549194336\n",
            "2.2984447479248047\n",
            "2.300204038619995\n",
            "2.301117181777954\n",
            "2.3015639781951904\n",
            "2.3017475605010986\n",
            "2.301832437515259\n",
            "2.3019208908081055\n",
            "2.302056312561035\n",
            "2.302245616912842\n",
            "2.3024940490722656\n",
            "2.3028247356414795\n",
            "2.3032612800598145\n",
            "2.303834915161133\n",
            "2.3045730590820312\n",
            "2.3055272102355957\n",
            "2.306755304336548\n",
            "2.3082568645477295\n",
            "2.3101303577423096\n",
            "2.312364101409912\n",
            "2.315049648284912\n",
            "2.3182036876678467\n",
            "2.321962833404541\n",
            "2.3263051509857178\n",
            "2.3313491344451904\n",
            "2.3372573852539062\n",
            "2.344052791595459\n",
            "2.3518669605255127\n"
          ]
        }
      ]
    },
    {
      "cell_type": "code",
      "metadata": {
        "colab": {
          "base_uri": "https://localhost:8080/",
          "height": 467
        },
        "id": "k4Rn6sqbOt1P",
        "outputId": "3ef6b009-1d2e-4bc7-e263-37d5a9fdb86d"
      },
      "source": [
        "import matplotlib.pyplot as plt\n",
        "import numpy as np\n",
        "\n",
        "plt.plot(np.arange(-2, 2, 0.05), results, 'ro')\n",
        "plt.ylabel('Incurred Error')\n",
        "plt.xlabel('Alpha')"
      ],
      "execution_count": 16,
      "outputs": [
        {
          "output_type": "execute_result",
          "data": {
            "text/plain": [
              "Text(0.5, 0, 'Alpha')"
            ]
          },
          "metadata": {},
          "execution_count": 16
        },
        {
          "output_type": "display_data",
          "data": {
            "text/plain": [
              "<Figure size 640x480 with 1 Axes>"
            ],
            "image/png": "[encoded data removed]"
          },
          "metadata": {}
        }
      ]
    },
    {
      "cell_type": "markdown",
      "metadata": {
        "id": "ecCGyr33pxcv"
      },
      "source": [
        "# Momentum-Based Optimization"
      ]
    },
    {
      "cell_type": "code",
      "metadata": {
        "colab": {
          "base_uri": "https://localhost:8080/"
        },
        "id": "XaO3cEEVtrM5",
        "outputId": "58bf342a-7dbe-46a8-a05b-a402ce05fa17"
      },
      "source": [
        "import torch\n",
        "torch.randint(-10, 10, (1,1))"
      ],
      "execution_count": 17,
      "outputs": [
        {
          "output_type": "execute_result",
          "data": {
            "text/plain": [
              "tensor([[7]])"
            ]
          },
          "metadata": {},
          "execution_count": 17
        }
      ]
    },
    {
      "cell_type": "code",
      "metadata": {
        "id": "iMKByahlpyWx"
      },
      "source": [
        "#\n",
        "rand_walk = [torch.randint(-10, 10, (1,1)) for x in range(100)]"
      ],
      "execution_count": 18,
      "outputs": []
    },
    {
      "cell_type": "code",
      "metadata": {
        "id": "AFZnQCcZpzVL"
      },
      "source": [
        "#\n",
        "momentum = 0.1\n",
        "momentum_rand_walk = \\\n",
        "      [torch.randint(-10, 10, (1,1)) for x in range(100)]\n",
        "\n",
        "for i in range(1, len(rand_walk) - 1):\n",
        "  prev = momentum_rand_walk[i-1]\n",
        "  rand_choice = torch.randint(-10, 10, (1,1)).item()\n",
        "  new_step = momentum * prev + (1 - momentum) * rand_choice\n",
        "  momentum_rand_walk[i] = new_step"
      ],
      "execution_count": 19,
      "outputs": []
    },
    {
      "cell_type": "code",
      "metadata": {
        "colab": {
          "base_uri": "https://localhost:8080/",
          "height": 448
        },
        "id": "YUUg3g5xv8pM",
        "outputId": "7523b853-b861-49e0-95c8-c5458e62c07e"
      },
      "source": [
        "import matplotlib.pyplot as plt\n",
        "\n",
        "# 각 텐서에서 숫자 값을 추출하여 1차원 리스트로 변환합니다.\n",
        "plot_data = [step.item() for step in momentum_rand_walk[:-1]]\n",
        "\n",
        "# 변환된 데이터로 그래프를 그립니다.\n",
        "plt.plot(plot_data)"
      ],
      "execution_count": 21,
      "outputs": [
        {
          "output_type": "execute_result",
          "data": {
            "text/plain": [
              "[<matplotlib.lines.Line2D at 0x7f656392e900>]"
            ]
          },
          "metadata": {},
          "execution_count": 21
        },
        {
          "output_type": "display_data",
          "data": {
            "text/plain": [
              "<Figure size 640x480 with 1 Axes>"
            ],
            "image/png": "[encoded data removed]"
          },
          "metadata": {}
        }
      ]
    },
    {
      "cell_type": "code",
      "metadata": {
        "id": "407EmDgDqlwq"
      },
      "source": [
        "from torch import optim, nn\n",
        "# example model\n",
        "model = nn.Conv2d(1,32,3)"
      ],
      "execution_count": 22,
      "outputs": []
    },
    {
      "cell_type": "code",
      "metadata": {
        "id": "e3VA5l32p4ZL"
      },
      "source": [
        "#\n",
        "optimizer = optim.SGD(model.parameters(),\n",
        "                      lr = 0.01,\n",
        "                      momentum = 0.9)\n",
        "\n",
        "optimizer.step()"
      ],
      "execution_count": 23,
      "outputs": []
    },
    {
      "cell_type": "code",
      "metadata": {
        "id": "vh2RtWQociCG"
      },
      "source": [
        "optimizer = optim.SGD(model.parameters(),\n",
        "                      lr = 0.01,\n",
        "                      momentum = 0.9,\n",
        "                      nesterov = True)\n"
      ],
      "execution_count": 24,
      "outputs": []
    },
    {
      "cell_type": "markdown",
      "metadata": {
        "id": "cETDeQJQqANh"
      },
      "source": [
        "# AdaGrad—Accumulating Historical Gradients"
      ]
    },
    {
      "cell_type": "code",
      "metadata": {
        "id": "NW1DJNFUp_Cq"
      },
      "source": [
        "optimizer = optim.Adagrad(model.parameters(),\n",
        "                          lr = 0.01,\n",
        "                          weight_decay = 0,\n",
        "                          initial_accumulator_value = 0)"
      ],
      "execution_count": 25,
      "outputs": []
    },
    {
      "cell_type": "markdown",
      "source": [
        "# RMSProp—Exponentially Weighted Moving Average of Gradients"
      ],
      "metadata": {
        "id": "43woOYOCqau4"
      }
    },
    {
      "cell_type": "code",
      "metadata": {
        "id": "HPScDCaYqFBA"
      },
      "source": [
        "optimizer = optim.RMSprop(model.parameters(),\n",
        "                          lr = 0.01,\n",
        "                          alpha = 0.99,\n",
        "                          eps = 1e-8,\n",
        "                          weight_decay = 0,\n",
        "                          momentum = 0)"
      ],
      "execution_count": null,
      "outputs": []
    },
    {
      "cell_type": "markdown",
      "source": [
        "# Adam—Combining Momentum and RMSProp"
      ],
      "metadata": {
        "id": "wvJvHZCCqd67"
      }
    },
    {
      "cell_type": "code",
      "metadata": {
        "id": "JwNx5zNpqG3h"
      },
      "source": [
        "optimizer = optim.Adam(model.parameters(),\n",
        "                       lr = 0.001,\n",
        "                       betas = (0.9, 0.999),\n",
        "                       eps = 1e-08,\n",
        "                       weight_decay = 0,\n",
        "                       amsgrad = False)"
      ],
      "execution_count": 26,
      "outputs": []
    }
  ]
}
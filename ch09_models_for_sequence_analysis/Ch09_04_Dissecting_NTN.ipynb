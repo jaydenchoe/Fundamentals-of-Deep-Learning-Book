{
  "nbformat": 4,
  "nbformat_minor": 0,
  "metadata": {
    "colab": {
      "name": "Ch09_04_Dissecting_NTN.ipynb",
      "provenance": [],
      "include_colab_link": true
    },
    "kernelspec": {
      "name": "python3",
      "display_name": "Python 3"
    },
    "language_info": {
      "name": "python"
    },
    "widgets": {
      "application/vnd.jupyter.widget-state+json": {
        "473f0d92463b4ea5bac2c0a1a1daa700": {
          "model_module": "@jupyter-widgets/controls",
          "model_name": "HBoxModel",
          "model_module_version": "1.5.0",
          "state": {
            "_dom_classes": [],
            "_model_module": "@jupyter-widgets/controls",
            "_model_module_version": "1.5.0",
            "_model_name": "HBoxModel",
            "_view_count": null,
            "_view_module": "@jupyter-widgets/controls",
            "_view_module_version": "1.5.0",
            "_view_name": "HBoxView",
            "box_style": "",
            "children": [
              "IPY_MODEL_80d43f613fc34677ad52bcf45d908f57",
              "IPY_MODEL_aee4f44c0e3541a98fd682cccf418fee",
              "IPY_MODEL_1dcbfbc697714d0694b5b631216cdcc3"
            ],
            "layout": "IPY_MODEL_b77bd9b786c645f584af959ad718290d"
          }
        },
        "80d43f613fc34677ad52bcf45d908f57": {
          "model_module": "@jupyter-widgets/controls",
          "model_name": "HTMLModel",
          "model_module_version": "1.5.0",
          "state": {
            "_dom_classes": [],
            "_model_module": "@jupyter-widgets/controls",
            "_model_module_version": "1.5.0",
            "_model_name": "HTMLModel",
            "_view_count": null,
            "_view_module": "@jupyter-widgets/controls",
            "_view_module_version": "1.5.0",
            "_view_name": "HTMLView",
            "description": "",
            "description_tooltip": null,
            "layout": "IPY_MODEL_88f55d7367ae49b2824172c4dd8a025d",
            "placeholder": "​",
            "style": "IPY_MODEL_1205025354284266b810bac687bcab43",
            "value": "README.md: "
          }
        },
        "aee4f44c0e3541a98fd682cccf418fee": {
          "model_module": "@jupyter-widgets/controls",
          "model_name": "FloatProgressModel",
          "model_module_version": "1.5.0",
          "state": {
            "_dom_classes": [],
            "_model_module": "@jupyter-widgets/controls",
            "_model_module_version": "1.5.0",
            "_model_name": "FloatProgressModel",
            "_view_count": null,
            "_view_module": "@jupyter-widgets/controls",
            "_view_module_version": "1.5.0",
            "_view_name": "ProgressView",
            "bar_style": "success",
            "description": "",
            "description_tooltip": null,
            "layout": "IPY_MODEL_85b9933a78c74d39818b7b4dee15a4a1",
            "max": 1,
            "min": 0,
            "orientation": "horizontal",
            "style": "IPY_MODEL_04620ee289944c53b030dbac00945aaa",
            "value": 1
          }
        },
        "1dcbfbc697714d0694b5b631216cdcc3": {
          "model_module": "@jupyter-widgets/controls",
          "model_name": "HTMLModel",
          "model_module_version": "1.5.0",
          "state": {
            "_dom_classes": [],
            "_model_module": "@jupyter-widgets/controls",
            "_model_module_version": "1.5.0",
            "_model_name": "HTMLModel",
            "_view_count": null,
            "_view_module": "@jupyter-widgets/controls",
            "_view_module_version": "1.5.0",
            "_view_name": "HTMLView",
            "description": "",
            "description_tooltip": null,
            "layout": "IPY_MODEL_78ee77da3f1343dfb73c8a0815c579d8",
            "placeholder": "​",
            "style": "IPY_MODEL_31089555c94f44a5861763903638260f",
            "value": " 28.1k/? [00:00&lt;00:00, 770kB/s]"
          }
        },
        "b77bd9b786c645f584af959ad718290d": {
          "model_module": "@jupyter-widgets/base",
          "model_name": "LayoutModel",
          "model_module_version": "1.2.0",
          "state": {
            "_model_module": "@jupyter-widgets/base",
            "_model_module_version": "1.2.0",
            "_model_name": "LayoutModel",
            "_view_count": null,
            "_view_module": "@jupyter-widgets/base",
            "_view_module_version": "1.2.0",
            "_view_name": "LayoutView",
            "align_content": null,
            "align_items": null,
            "align_self": null,
            "border": null,
            "bottom": null,
            "display": null,
            "flex": null,
            "flex_flow": null,
            "grid_area": null,
            "grid_auto_columns": null,
            "grid_auto_flow": null,
            "grid_auto_rows": null,
            "grid_column": null,
            "grid_gap": null,
            "grid_row": null,
            "grid_template_areas": null,
            "grid_template_columns": null,
            "grid_template_rows": null,
            "height": null,
            "justify_content": null,
            "justify_items": null,
            "left": null,
            "margin": null,
            "max_height": null,
            "max_width": null,
            "min_height": null,
            "min_width": null,
            "object_fit": null,
            "object_position": null,
            "order": null,
            "overflow": null,
            "overflow_x": null,
            "overflow_y": null,
            "padding": null,
            "right": null,
            "top": null,
            "visibility": null,
            "width": null
          }
        },
        "88f55d7367ae49b2824172c4dd8a025d": {
          "model_module": "@jupyter-widgets/base",
          "model_name": "LayoutModel",
          "model_module_version": "1.2.0",
          "state": {
            "_model_module": "@jupyter-widgets/base",
            "_model_module_version": "1.2.0",
            "_model_name": "LayoutModel",
            "_view_count": null,
            "_view_module": "@jupyter-widgets/base",
            "_view_module_version": "1.2.0",
            "_view_name": "LayoutView",
            "align_content": null,
            "align_items": null,
            "align_self": null,
            "border": null,
            "bottom": null,
            "display": null,
            "flex": null,
            "flex_flow": null,
            "grid_area": null,
            "grid_auto_columns": null,
            "grid_auto_flow": null,
            "grid_auto_rows": null,
            "grid_column": null,
            "grid_gap": null,
            "grid_row": null,
            "grid_template_areas": null,
            "grid_template_columns": null,
            "grid_template_rows": null,
            "height": null,
            "justify_content": null,
            "justify_items": null,
            "left": null,
            "margin": null,
            "max_height": null,
            "max_width": null,
            "min_height": null,
            "min_width": null,
            "object_fit": null,
            "object_position": null,
            "order": null,
            "overflow": null,
            "overflow_x": null,
            "overflow_y": null,
            "padding": null,
            "right": null,
            "top": null,
            "visibility": null,
            "width": null
          }
        },
        "1205025354284266b810bac687bcab43": {
          "model_module": "@jupyter-widgets/controls",
          "model_name": "DescriptionStyleModel",
          "model_module_version": "1.5.0",
          "state": {
            "_model_module": "@jupyter-widgets/controls",
            "_model_module_version": "1.5.0",
            "_model_name": "DescriptionStyleModel",
            "_view_count": null,
            "_view_module": "@jupyter-widgets/base",
            "_view_module_version": "1.2.0",
            "_view_name": "StyleView",
            "description_width": ""
          }
        },
        "85b9933a78c74d39818b7b4dee15a4a1": {
          "model_module": "@jupyter-widgets/base",
          "model_name": "LayoutModel",
          "model_module_version": "1.2.0",
          "state": {
            "_model_module": "@jupyter-widgets/base",
            "_model_module_version": "1.2.0",
            "_model_name": "LayoutModel",
            "_view_count": null,
            "_view_module": "@jupyter-widgets/base",
            "_view_module_version": "1.2.0",
            "_view_name": "LayoutView",
            "align_content": null,
            "align_items": null,
            "align_self": null,
            "border": null,
            "bottom": null,
            "display": null,
            "flex": null,
            "flex_flow": null,
            "grid_area": null,
            "grid_auto_columns": null,
            "grid_auto_flow": null,
            "grid_auto_rows": null,
            "grid_column": null,
            "grid_gap": null,
            "grid_row": null,
            "grid_template_areas": null,
            "grid_template_columns": null,
            "grid_template_rows": null,
            "height": null,
            "justify_content": null,
            "justify_items": null,
            "left": null,
            "margin": null,
            "max_height": null,
            "max_width": null,
            "min_height": null,
            "min_width": null,
            "object_fit": null,
            "object_position": null,
            "order": null,
            "overflow": null,
            "overflow_x": null,
            "overflow_y": null,
            "padding": null,
            "right": null,
            "top": null,
            "visibility": null,
            "width": "20px"
          }
        },
        "04620ee289944c53b030dbac00945aaa": {
          "model_module": "@jupyter-widgets/controls",
          "model_name": "ProgressStyleModel",
          "model_module_version": "1.5.0",
          "state": {
            "_model_module": "@jupyter-widgets/controls",
            "_model_module_version": "1.5.0",
            "_model_name": "ProgressStyleModel",
            "_view_count": null,
            "_view_module": "@jupyter-widgets/base",
            "_view_module_version": "1.2.0",
            "_view_name": "StyleView",
            "bar_color": null,
            "description_width": ""
          }
        },
        "78ee77da3f1343dfb73c8a0815c579d8": {
          "model_module": "@jupyter-widgets/base",
          "model_name": "LayoutModel",
          "model_module_version": "1.2.0",
          "state": {
            "_model_module": "@jupyter-widgets/base",
            "_model_module_version": "1.2.0",
            "_model_name": "LayoutModel",
            "_view_count": null,
            "_view_module": "@jupyter-widgets/base",
            "_view_module_version": "1.2.0",
            "_view_name": "LayoutView",
            "align_content": null,
            "align_items": null,
            "align_self": null,
            "border": null,
            "bottom": null,
            "display": null,
            "flex": null,
            "flex_flow": null,
            "grid_area": null,
            "grid_auto_columns": null,
            "grid_auto_flow": null,
            "grid_auto_rows": null,
            "grid_column": null,
            "grid_gap": null,
            "grid_row": null,
            "grid_template_areas": null,
            "grid_template_columns": null,
            "grid_template_rows": null,
            "height": null,
            "justify_content": null,
            "justify_items": null,
            "left": null,
            "margin": null,
            "max_height": null,
            "max_width": null,
            "min_height": null,
            "min_width": null,
            "object_fit": null,
            "object_position": null,
            "order": null,
            "overflow": null,
            "overflow_x": null,
            "overflow_y": null,
            "padding": null,
            "right": null,
            "top": null,
            "visibility": null,
            "width": null
          }
        },
        "31089555c94f44a5861763903638260f": {
          "model_module": "@jupyter-widgets/controls",
          "model_name": "DescriptionStyleModel",
          "model_module_version": "1.5.0",
          "state": {
            "_model_module": "@jupyter-widgets/controls",
            "_model_module_version": "1.5.0",
            "_model_name": "DescriptionStyleModel",
            "_view_count": null,
            "_view_module": "@jupyter-widgets/base",
            "_view_module_version": "1.2.0",
            "_view_name": "StyleView",
            "description_width": ""
          }
        },
        "b0e470bf44cb4a338c31b56753973f71": {
          "model_module": "@jupyter-widgets/controls",
          "model_name": "HBoxModel",
          "model_module_version": "1.5.0",
          "state": {
            "_dom_classes": [],
            "_model_module": "@jupyter-widgets/controls",
            "_model_module_version": "1.5.0",
            "_model_name": "HBoxModel",
            "_view_count": null,
            "_view_module": "@jupyter-widgets/controls",
            "_view_module_version": "1.5.0",
            "_view_name": "HBoxView",
            "box_style": "",
            "children": [
              "IPY_MODEL_0fe338238c96436bafe6c9d722f9024d",
              "IPY_MODEL_150fc09f2559467bb51d408ba711f4de",
              "IPY_MODEL_7355542e7be1435d99dbb3a0d43b4802"
            ],
            "layout": "IPY_MODEL_a076b100a20f4aeba79974124d9aff0e"
          }
        },
        "0fe338238c96436bafe6c9d722f9024d": {
          "model_module": "@jupyter-widgets/controls",
          "model_name": "HTMLModel",
          "model_module_version": "1.5.0",
          "state": {
            "_dom_classes": [],
            "_model_module": "@jupyter-widgets/controls",
            "_model_module_version": "1.5.0",
            "_model_name": "HTMLModel",
            "_view_count": null,
            "_view_module": "@jupyter-widgets/controls",
            "_view_module_version": "1.5.0",
            "_view_name": "HTMLView",
            "description": "",
            "description_tooltip": null,
            "layout": "IPY_MODEL_f0f18e58b5ba46d9b6d3a660a3935c65",
            "placeholder": "​",
            "style": "IPY_MODEL_1888af1e0e0642a0a605bc1effbcb1a5",
            "value": "train-00000-of-00001.parquet: 100%"
          }
        },
        "150fc09f2559467bb51d408ba711f4de": {
          "model_module": "@jupyter-widgets/controls",
          "model_name": "FloatProgressModel",
          "model_module_version": "1.5.0",
          "state": {
            "_dom_classes": [],
            "_model_module": "@jupyter-widgets/controls",
            "_model_module_version": "1.5.0",
            "_model_name": "FloatProgressModel",
            "_view_count": null,
            "_view_module": "@jupyter-widgets/controls",
            "_view_module_version": "1.5.0",
            "_view_name": "ProgressView",
            "bar_style": "success",
            "description": "",
            "description_tooltip": null,
            "layout": "IPY_MODEL_bcf9bae28b4b4638ae4cefb2b01054ed",
            "max": 20985324,
            "min": 0,
            "orientation": "horizontal",
            "style": "IPY_MODEL_8868684a68dd436986155ac3cbb5a818",
            "value": 20985324
          }
        },
        "7355542e7be1435d99dbb3a0d43b4802": {
          "model_module": "@jupyter-widgets/controls",
          "model_name": "HTMLModel",
          "model_module_version": "1.5.0",
          "state": {
            "_dom_classes": [],
            "_model_module": "@jupyter-widgets/controls",
            "_model_module_version": "1.5.0",
            "_model_name": "HTMLModel",
            "_view_count": null,
            "_view_module": "@jupyter-widgets/controls",
            "_view_module_version": "1.5.0",
            "_view_name": "HTMLView",
            "description": "",
            "description_tooltip": null,
            "layout": "IPY_MODEL_ef8ba571d95c4cb7be84d24b86e4bf57",
            "placeholder": "​",
            "style": "IPY_MODEL_1d2e034d85734cdea26498d26b08b5e5",
            "value": " 21.0M/21.0M [00:00&lt;00:00, 60.4MB/s]"
          }
        },
        "a076b100a20f4aeba79974124d9aff0e": {
          "model_module": "@jupyter-widgets/base",
          "model_name": "LayoutModel",
          "model_module_version": "1.2.0",
          "state": {
            "_model_module": "@jupyter-widgets/base",
            "_model_module_version": "1.2.0",
            "_model_name": "LayoutModel",
            "_view_count": null,
            "_view_module": "@jupyter-widgets/base",
            "_view_module_version": "1.2.0",
            "_view_name": "LayoutView",
            "align_content": null,
            "align_items": null,
            "align_self": null,
            "border": null,
            "bottom": null,
            "display": null,
            "flex": null,
            "flex_flow": null,
            "grid_area": null,
            "grid_auto_columns": null,
            "grid_auto_flow": null,
            "grid_auto_rows": null,
            "grid_column": null,
            "grid_gap": null,
            "grid_row": null,
            "grid_template_areas": null,
            "grid_template_columns": null,
            "grid_template_rows": null,
            "height": null,
            "justify_content": null,
            "justify_items": null,
            "left": null,
            "margin": null,
            "max_height": null,
            "max_width": null,
            "min_height": null,
            "min_width": null,
            "object_fit": null,
            "object_position": null,
            "order": null,
            "overflow": null,
            "overflow_x": null,
            "overflow_y": null,
            "padding": null,
            "right": null,
            "top": null,
            "visibility": null,
            "width": null
          }
        },
        "f0f18e58b5ba46d9b6d3a660a3935c65": {
          "model_module": "@jupyter-widgets/base",
          "model_name": "LayoutModel",
          "model_module_version": "1.2.0",
          "state": {
            "_model_module": "@jupyter-widgets/base",
            "_model_module_version": "1.2.0",
            "_model_name": "LayoutModel",
            "_view_count": null,
            "_view_module": "@jupyter-widgets/base",
            "_view_module_version": "1.2.0",
            "_view_name": "LayoutView",
            "align_content": null,
            "align_items": null,
            "align_self": null,
            "border": null,
            "bottom": null,
            "display": null,
            "flex": null,
            "flex_flow": null,
            "grid_area": null,
            "grid_auto_columns": null,
            "grid_auto_flow": null,
            "grid_auto_rows": null,
            "grid_column": null,
            "grid_gap": null,
            "grid_row": null,
            "grid_template_areas": null,
            "grid_template_columns": null,
            "grid_template_rows": null,
            "height": null,
            "justify_content": null,
            "justify_items": null,
            "left": null,
            "margin": null,
            "max_height": null,
            "max_width": null,
            "min_height": null,
            "min_width": null,
            "object_fit": null,
            "object_position": null,
            "order": null,
            "overflow": null,
            "overflow_x": null,
            "overflow_y": null,
            "padding": null,
            "right": null,
            "top": null,
            "visibility": null,
            "width": null
          }
        },
        "1888af1e0e0642a0a605bc1effbcb1a5": {
          "model_module": "@jupyter-widgets/controls",
          "model_name": "DescriptionStyleModel",
          "model_module_version": "1.5.0",
          "state": {
            "_model_module": "@jupyter-widgets/controls",
            "_model_module_version": "1.5.0",
            "_model_name": "DescriptionStyleModel",
            "_view_count": null,
            "_view_module": "@jupyter-widgets/base",
            "_view_module_version": "1.2.0",
            "_view_name": "StyleView",
            "description_width": ""
          }
        },
        "bcf9bae28b4b4638ae4cefb2b01054ed": {
          "model_module": "@jupyter-widgets/base",
          "model_name": "LayoutModel",
          "model_module_version": "1.2.0",
          "state": {
            "_model_module": "@jupyter-widgets/base",
            "_model_module_version": "1.2.0",
            "_model_name": "LayoutModel",
            "_view_count": null,
            "_view_module": "@jupyter-widgets/base",
            "_view_module_version": "1.2.0",
            "_view_name": "LayoutView",
            "align_content": null,
            "align_items": null,
            "align_self": null,
            "border": null,
            "bottom": null,
            "display": null,
            "flex": null,
            "flex_flow": null,
            "grid_area": null,
            "grid_auto_columns": null,
            "grid_auto_flow": null,
            "grid_auto_rows": null,
            "grid_column": null,
            "grid_gap": null,
            "grid_row": null,
            "grid_template_areas": null,
            "grid_template_columns": null,
            "grid_template_rows": null,
            "height": null,
            "justify_content": null,
            "justify_items": null,
            "left": null,
            "margin": null,
            "max_height": null,
            "max_width": null,
            "min_height": null,
            "min_width": null,
            "object_fit": null,
            "object_position": null,
            "order": null,
            "overflow": null,
            "overflow_x": null,
            "overflow_y": null,
            "padding": null,
            "right": null,
            "top": null,
            "visibility": null,
            "width": null
          }
        },
        "8868684a68dd436986155ac3cbb5a818": {
          "model_module": "@jupyter-widgets/controls",
          "model_name": "ProgressStyleModel",
          "model_module_version": "1.5.0",
          "state": {
            "_model_module": "@jupyter-widgets/controls",
            "_model_module_version": "1.5.0",
            "_model_name": "ProgressStyleModel",
            "_view_count": null,
            "_view_module": "@jupyter-widgets/base",
            "_view_module_version": "1.2.0",
            "_view_name": "StyleView",
            "bar_color": null,
            "description_width": ""
          }
        },
        "ef8ba571d95c4cb7be84d24b86e4bf57": {
          "model_module": "@jupyter-widgets/base",
          "model_name": "LayoutModel",
          "model_module_version": "1.2.0",
          "state": {
            "_model_module": "@jupyter-widgets/base",
            "_model_module_version": "1.2.0",
            "_model_name": "LayoutModel",
            "_view_count": null,
            "_view_module": "@jupyter-widgets/base",
            "_view_module_version": "1.2.0",
            "_view_name": "LayoutView",
            "align_content": null,
            "align_items": null,
            "align_self": null,
            "border": null,
            "bottom": null,
            "display": null,
            "flex": null,
            "flex_flow": null,
            "grid_area": null,
            "grid_auto_columns": null,
            "grid_auto_flow": null,
            "grid_auto_rows": null,
            "grid_column": null,
            "grid_gap": null,
            "grid_row": null,
            "grid_template_areas": null,
            "grid_template_columns": null,
            "grid_template_rows": null,
            "height": null,
            "justify_content": null,
            "justify_items": null,
            "left": null,
            "margin": null,
            "max_height": null,
            "max_width": null,
            "min_height": null,
            "min_width": null,
            "object_fit": null,
            "object_position": null,
            "order": null,
            "overflow": null,
            "overflow_x": null,
            "overflow_y": null,
            "padding": null,
            "right": null,
            "top": null,
            "visibility": null,
            "width": null
          }
        },
        "1d2e034d85734cdea26498d26b08b5e5": {
          "model_module": "@jupyter-widgets/controls",
          "model_name": "DescriptionStyleModel",
          "model_module_version": "1.5.0",
          "state": {
            "_model_module": "@jupyter-widgets/controls",
            "_model_module_version": "1.5.0",
            "_model_name": "DescriptionStyleModel",
            "_view_count": null,
            "_view_module": "@jupyter-widgets/base",
            "_view_module_version": "1.2.0",
            "_view_name": "StyleView",
            "description_width": ""
          }
        },
        "fcdc9def9af84db692104a777166576e": {
          "model_module": "@jupyter-widgets/controls",
          "model_name": "HBoxModel",
          "model_module_version": "1.5.0",
          "state": {
            "_dom_classes": [],
            "_model_module": "@jupyter-widgets/controls",
            "_model_module_version": "1.5.0",
            "_model_name": "HBoxModel",
            "_view_count": null,
            "_view_module": "@jupyter-widgets/controls",
            "_view_module_version": "1.5.0",
            "_view_name": "HBoxView",
            "box_style": "",
            "children": [
              "IPY_MODEL_b5c320a13b194343b813b4b841b6b902",
              "IPY_MODEL_142097aaf7ac4c55a7a7cc3f890b6858",
              "IPY_MODEL_646d1e2644f2461fb8e361856101b392"
            ],
            "layout": "IPY_MODEL_b9918c25e6be4603b09f90e326c62521"
          }
        },
        "b5c320a13b194343b813b4b841b6b902": {
          "model_module": "@jupyter-widgets/controls",
          "model_name": "HTMLModel",
          "model_module_version": "1.5.0",
          "state": {
            "_dom_classes": [],
            "_model_module": "@jupyter-widgets/controls",
            "_model_module_version": "1.5.0",
            "_model_name": "HTMLModel",
            "_view_count": null,
            "_view_module": "@jupyter-widgets/controls",
            "_view_module_version": "1.5.0",
            "_view_name": "HTMLView",
            "description": "",
            "description_tooltip": null,
            "layout": "IPY_MODEL_4affb1ad7a624124b8907f4e7a6967d1",
            "placeholder": "​",
            "style": "IPY_MODEL_228ac310c2674c69b4c45b726c3fd4b2",
            "value": "Generating train split: 100%"
          }
        },
        "142097aaf7ac4c55a7a7cc3f890b6858": {
          "model_module": "@jupyter-widgets/controls",
          "model_name": "FloatProgressModel",
          "model_module_version": "1.5.0",
          "state": {
            "_dom_classes": [],
            "_model_module": "@jupyter-widgets/controls",
            "_model_module_version": "1.5.0",
            "_model_name": "FloatProgressModel",
            "_view_count": null,
            "_view_module": "@jupyter-widgets/controls",
            "_view_module_version": "1.5.0",
            "_view_name": "ProgressView",
            "bar_style": "success",
            "description": "",
            "description_tooltip": null,
            "layout": "IPY_MODEL_ee5bc5b04b6a4a7daa8747bb9db19854",
            "max": 127085,
            "min": 0,
            "orientation": "horizontal",
            "style": "IPY_MODEL_e73030259d5b47ccb8bb2fd6d912d1d2",
            "value": 127085
          }
        },
        "646d1e2644f2461fb8e361856101b392": {
          "model_module": "@jupyter-widgets/controls",
          "model_name": "HTMLModel",
          "model_module_version": "1.5.0",
          "state": {
            "_dom_classes": [],
            "_model_module": "@jupyter-widgets/controls",
            "_model_module_version": "1.5.0",
            "_model_name": "HTMLModel",
            "_view_count": null,
            "_view_module": "@jupyter-widgets/controls",
            "_view_module_version": "1.5.0",
            "_view_name": "HTMLView",
            "description": "",
            "description_tooltip": null,
            "layout": "IPY_MODEL_ea2e0de813c34db28d8976a00804d5fb",
            "placeholder": "​",
            "style": "IPY_MODEL_69d57d9c3418446dacf5701c46de2b42",
            "value": " 127085/127085 [00:00&lt;00:00, 317666.56 examples/s]"
          }
        },
        "b9918c25e6be4603b09f90e326c62521": {
          "model_module": "@jupyter-widgets/base",
          "model_name": "LayoutModel",
          "model_module_version": "1.2.0",
          "state": {
            "_model_module": "@jupyter-widgets/base",
            "_model_module_version": "1.2.0",
            "_model_name": "LayoutModel",
            "_view_count": null,
            "_view_module": "@jupyter-widgets/base",
            "_view_module_version": "1.2.0",
            "_view_name": "LayoutView",
            "align_content": null,
            "align_items": null,
            "align_self": null,
            "border": null,
            "bottom": null,
            "display": null,
            "flex": null,
            "flex_flow": null,
            "grid_area": null,
            "grid_auto_columns": null,
            "grid_auto_flow": null,
            "grid_auto_rows": null,
            "grid_column": null,
            "grid_gap": null,
            "grid_row": null,
            "grid_template_areas": null,
            "grid_template_columns": null,
            "grid_template_rows": null,
            "height": null,
            "justify_content": null,
            "justify_items": null,
            "left": null,
            "margin": null,
            "max_height": null,
            "max_width": null,
            "min_height": null,
            "min_width": null,
            "object_fit": null,
            "object_position": null,
            "order": null,
            "overflow": null,
            "overflow_x": null,
            "overflow_y": null,
            "padding": null,
            "right": null,
            "top": null,
            "visibility": null,
            "width": null
          }
        },
        "4affb1ad7a624124b8907f4e7a6967d1": {
          "model_module": "@jupyter-widgets/base",
          "model_name": "LayoutModel",
          "model_module_version": "1.2.0",
          "state": {
            "_model_module": "@jupyter-widgets/base",
            "_model_module_version": "1.2.0",
            "_model_name": "LayoutModel",
            "_view_count": null,
            "_view_module": "@jupyter-widgets/base",
            "_view_module_version": "1.2.0",
            "_view_name": "LayoutView",
            "align_content": null,
            "align_items": null,
            "align_self": null,
            "border": null,
            "bottom": null,
            "display": null,
            "flex": null,
            "flex_flow": null,
            "grid_area": null,
            "grid_auto_columns": null,
            "grid_auto_flow": null,
            "grid_auto_rows": null,
            "grid_column": null,
            "grid_gap": null,
            "grid_row": null,
            "grid_template_areas": null,
            "grid_template_columns": null,
            "grid_template_rows": null,
            "height": null,
            "justify_content": null,
            "justify_items": null,
            "left": null,
            "margin": null,
            "max_height": null,
            "max_width": null,
            "min_height": null,
            "min_width": null,
            "object_fit": null,
            "object_position": null,
            "order": null,
            "overflow": null,
            "overflow_x": null,
            "overflow_y": null,
            "padding": null,
            "right": null,
            "top": null,
            "visibility": null,
            "width": null
          }
        },
        "228ac310c2674c69b4c45b726c3fd4b2": {
          "model_module": "@jupyter-widgets/controls",
          "model_name": "DescriptionStyleModel",
          "model_module_version": "1.5.0",
          "state": {
            "_model_module": "@jupyter-widgets/controls",
            "_model_module_version": "1.5.0",
            "_model_name": "DescriptionStyleModel",
            "_view_count": null,
            "_view_module": "@jupyter-widgets/base",
            "_view_module_version": "1.2.0",
            "_view_name": "StyleView",
            "description_width": ""
          }
        },
        "ee5bc5b04b6a4a7daa8747bb9db19854": {
          "model_module": "@jupyter-widgets/base",
          "model_name": "LayoutModel",
          "model_module_version": "1.2.0",
          "state": {
            "_model_module": "@jupyter-widgets/base",
            "_model_module_version": "1.2.0",
            "_model_name": "LayoutModel",
            "_view_count": null,
            "_view_module": "@jupyter-widgets/base",
            "_view_module_version": "1.2.0",
            "_view_name": "LayoutView",
            "align_content": null,
            "align_items": null,
            "align_self": null,
            "border": null,
            "bottom": null,
            "display": null,
            "flex": null,
            "flex_flow": null,
            "grid_area": null,
            "grid_auto_columns": null,
            "grid_auto_flow": null,
            "grid_auto_rows": null,
            "grid_column": null,
            "grid_gap": null,
            "grid_row": null,
            "grid_template_areas": null,
            "grid_template_columns": null,
            "grid_template_rows": null,
            "height": null,
            "justify_content": null,
            "justify_items": null,
            "left": null,
            "margin": null,
            "max_height": null,
            "max_width": null,
            "min_height": null,
            "min_width": null,
            "object_fit": null,
            "object_position": null,
            "order": null,
            "overflow": null,
            "overflow_x": null,
            "overflow_y": null,
            "padding": null,
            "right": null,
            "top": null,
            "visibility": null,
            "width": null
          }
        },
        "e73030259d5b47ccb8bb2fd6d912d1d2": {
          "model_module": "@jupyter-widgets/controls",
          "model_name": "ProgressStyleModel",
          "model_module_version": "1.5.0",
          "state": {
            "_model_module": "@jupyter-widgets/controls",
            "_model_module_version": "1.5.0",
            "_model_name": "ProgressStyleModel",
            "_view_count": null,
            "_view_module": "@jupyter-widgets/base",
            "_view_module_version": "1.2.0",
            "_view_name": "StyleView",
            "bar_color": null,
            "description_width": ""
          }
        },
        "ea2e0de813c34db28d8976a00804d5fb": {
          "model_module": "@jupyter-widgets/base",
          "model_name": "LayoutModel",
          "model_module_version": "1.2.0",
          "state": {
            "_model_module": "@jupyter-widgets/base",
            "_model_module_version": "1.2.0",
            "_model_name": "LayoutModel",
            "_view_count": null,
            "_view_module": "@jupyter-widgets/base",
            "_view_module_version": "1.2.0",
            "_view_name": "LayoutView",
            "align_content": null,
            "align_items": null,
            "align_self": null,
            "border": null,
            "bottom": null,
            "display": null,
            "flex": null,
            "flex_flow": null,
            "grid_area": null,
            "grid_auto_columns": null,
            "grid_auto_flow": null,
            "grid_auto_rows": null,
            "grid_column": null,
            "grid_gap": null,
            "grid_row": null,
            "grid_template_areas": null,
            "grid_template_columns": null,
            "grid_template_rows": null,
            "height": null,
            "justify_content": null,
            "justify_items": null,
            "left": null,
            "margin": null,
            "max_height": null,
            "max_width": null,
            "min_height": null,
            "min_width": null,
            "object_fit": null,
            "object_position": null,
            "order": null,
            "overflow": null,
            "overflow_x": null,
            "overflow_y": null,
            "padding": null,
            "right": null,
            "top": null,
            "visibility": null,
            "width": null
          }
        },
        "69d57d9c3418446dacf5701c46de2b42": {
          "model_module": "@jupyter-widgets/controls",
          "model_name": "DescriptionStyleModel",
          "model_module_version": "1.5.0",
          "state": {
            "_model_module": "@jupyter-widgets/controls",
            "_model_module_version": "1.5.0",
            "_model_name": "DescriptionStyleModel",
            "_view_count": null,
            "_view_module": "@jupyter-widgets/base",
            "_view_module_version": "1.2.0",
            "_view_name": "StyleView",
            "description_width": ""
          }
        }
      }
    }
  },
  "cells": [
    {
      "cell_type": "markdown",
      "metadata": {
        "id": "view-in-github",
        "colab_type": "text"
      },
      "source": [
        "<a href=\"https://colab.research.google.com/github/jaydenchoe/Fundamentals-of-Deep-Learning-Book/blob/master/ch09_models_for_sequence_analysis/Ch09_04_Dissecting_NTN.ipynb\" target=\"_parent\"><img src=\"https://colab.research.google.com/assets/colab-badge.svg\" alt=\"Open In Colab\"/></a>"
      ]
    },
    {
      "cell_type": "markdown",
      "source": [
        "\n",
        "# Preparation\n",
        "First, you'll need to download the Spacy NLP library. Run the next cell to install Spacy, then **RESTART the COLAB RUNTIME by clicking on the menu Runtime - Restart runtime.**"
      ],
      "metadata": {
        "id": "6lPhLWeAwK0Y"
      }
    },
    {
      "cell_type": "code",
      "source": [
        "# 2025-0901 added for version issues\n",
        "!pip uninstall -y -q torchtune\n",
        "!pip install -q torch==2.3.0 torchtext==0.18.0 torchdata==0.8.0 \"portalocker>=2.0.0\"\n",
        "\n",
        "# Download Spacy tokenizers\n",
        "#!pip install -U spacy\n",
        "!python -m spacy download en_core_web_sm\n",
        "!python -m spacy download fr_core_news_sm\n",
        "\n",
        "# Need to restart Colab Runtime\n",
        "# 설치 반영 위해 런타임 자동 재시작됩니다(필수). 이후에는 다음 셀부터 실행하면 됩니다.\n",
        "import os\n",
        "os.kill(os.getpid(), 9)"
      ],
      "metadata": {
        "id": "52AKgo9oYzO8",
        "colab": {
          "base_uri": "https://localhost:8080/"
        },
        "outputId": "8980f191-3e11-4b9c-9a8b-c7b9ccaba1ef"
      },
      "execution_count": null,
      "outputs": [
        {
          "output_type": "stream",
          "name": "stdout",
          "text": [
            "\u001b[33mWARNING: Skipping torchtune as it is not installed.\u001b[0m\u001b[33m\n",
            "\u001b[0m\u001b[31mERROR: Could not find a version that satisfies the requirement torch==2.1.0 (from versions: 2.2.0, 2.2.1, 2.2.2, 2.3.0, 2.3.1, 2.4.0, 2.4.1, 2.5.0, 2.5.1, 2.6.0, 2.7.0, 2.7.1, 2.8.0)\u001b[0m\u001b[31m\n",
            "\u001b[0m\u001b[31mERROR: No matching distribution found for torch==2.1.0\u001b[0m\u001b[31m\n",
            "\u001b[0mCollecting en-core-web-sm==3.8.0\n",
            "  Downloading https://github.com/explosion/spacy-models/releases/download/en_core_web_sm-3.8.0/en_core_web_sm-3.8.0-py3-none-any.whl (12.8 MB)\n",
            "\u001b[2K     \u001b[90m━━━━━━━━━━━━━━━━━━━━━━━━━━━━━━━━━━━━━━━━\u001b[0m \u001b[32m12.8/12.8 MB\u001b[0m \u001b[31m91.1 MB/s\u001b[0m eta \u001b[36m0:00:00\u001b[0m\n",
            "\u001b[?25h\u001b[38;5;2m✔ Download and installation successful\u001b[0m\n",
            "You can now load the package via spacy.load('en_core_web_sm')\n",
            "\u001b[38;5;3m⚠ Restart to reload dependencies\u001b[0m\n",
            "If you are in a Jupyter or Colab notebook, you may need to restart Python in\n",
            "order to load all the package's dependencies. You can do this by selecting the\n",
            "'Restart kernel' or 'Restart runtime' option.\n",
            "Collecting fr-core-news-sm==3.8.0\n",
            "  Downloading https://github.com/explosion/spacy-models/releases/download/fr_core_news_sm-3.8.0/fr_core_news_sm-3.8.0-py3-none-any.whl (16.3 MB)\n",
            "\u001b[2K     \u001b[90m━━━━━━━━━━━━━━━━━━━━━━━━━━━━━━━━━━━━━━━━\u001b[0m \u001b[32m16.3/16.3 MB\u001b[0m \u001b[31m88.8 MB/s\u001b[0m eta \u001b[36m0:00:00\u001b[0m\n",
            "\u001b[?25h\u001b[38;5;2m✔ Download and installation successful\u001b[0m\n",
            "You can now load the package via spacy.load('fr_core_news_sm')\n",
            "\u001b[38;5;3m⚠ Restart to reload dependencies\u001b[0m\n",
            "If you are in a Jupyter or Colab notebook, you may need to restart Python in\n",
            "order to load all the package's dependencies. You can do this by selecting the\n",
            "'Restart kernel' or 'Restart runtime' option.\n"
          ]
        }
      ]
    },
    {
      "cell_type": "markdown",
      "source": [
        "# Restart Colab Runtime\n",
        "Click menu Runtime - Restart runtime"
      ],
      "metadata": {
        "id": "fV4MJkKIwz6P"
      }
    },
    {
      "cell_type": "markdown",
      "source": [
        "# IWSLT2016 Dataset"
      ],
      "metadata": {
        "id": "6fi66Uck3y9U"
      }
    },
    {
      "cell_type": "code",
      "source": [
        "import torch, torchtext\n",
        "from torchtext.data.utils import get_tokenizer\n",
        "from torchtext.vocab import build_vocab_from_iterator\n",
        "from torchtext.datasets import IWSLT2016\n",
        "from typing import Iterable, List\n",
        "import numpy as np\n",
        "\n",
        "print(f\"PyTorch Version: {torch.__version__}\")\n",
        "print(f\"TorchText Version: {torchtext.__version__}\")"
      ],
      "metadata": {
        "id": "vS6tEAVjY9hK",
        "colab": {
          "base_uri": "https://localhost:8080/"
        },
        "outputId": "eb278110-78e5-4360-c64a-1e84b7cdc2e6"
      },
      "execution_count": 1,
      "outputs": [
        {
          "output_type": "stream",
          "name": "stderr",
          "text": [
            "/usr/local/lib/python3.12/dist-packages/torchtext/data/__init__.py:4: UserWarning: \n",
            "/!\\ IMPORTANT WARNING ABOUT TORCHTEXT STATUS /!\\ \n",
            "Torchtext is deprecated and the last released version will be 0.18 (this one). You can silence this warning by calling the following at the beginnign of your scripts: `import torchtext; torchtext.disable_torchtext_deprecation_warning()`\n",
            "  warnings.warn(torchtext._TORCHTEXT_DEPRECATION_MSG)\n",
            "/usr/local/lib/python3.12/dist-packages/torchtext/vocab/__init__.py:4: UserWarning: \n",
            "/!\\ IMPORTANT WARNING ABOUT TORCHTEXT STATUS /!\\ \n",
            "Torchtext is deprecated and the last released version will be 0.18 (this one). You can silence this warning by calling the following at the beginnign of your scripts: `import torchtext; torchtext.disable_torchtext_deprecation_warning()`\n",
            "  warnings.warn(torchtext._TORCHTEXT_DEPRECATION_MSG)\n",
            "/usr/local/lib/python3.12/dist-packages/torchtext/utils.py:4: UserWarning: \n",
            "/!\\ IMPORTANT WARNING ABOUT TORCHTEXT STATUS /!\\ \n",
            "Torchtext is deprecated and the last released version will be 0.18 (this one). You can silence this warning by calling the following at the beginnign of your scripts: `import torchtext; torchtext.disable_torchtext_deprecation_warning()`\n",
            "  warnings.warn(torchtext._TORCHTEXT_DEPRECATION_MSG)\n",
            "/usr/local/lib/python3.12/dist-packages/torchtext/datasets/__init__.py:4: UserWarning: \n",
            "/!\\ IMPORTANT WARNING ABOUT TORCHTEXT STATUS /!\\ \n",
            "Torchtext is deprecated and the last released version will be 0.18 (this one). You can silence this warning by calling the following at the beginnign of your scripts: `import torchtext; torchtext.disable_torchtext_deprecation_warning()`\n",
            "  warnings.warn(torchtext._TORCHTEXT_DEPRECATION_MSG)\n"
          ]
        },
        {
          "output_type": "stream",
          "name": "stdout",
          "text": [
            "PyTorch Version: 2.3.0+cu121\n",
            "TorchText Version: 0.18.0+cpu\n"
          ]
        }
      ]
    },
    {
      "cell_type": "markdown",
      "source": [
        "# ERROR ALERT:\n",
        "*   You may receive a **\"RuntimeError: Internal error: confirm_token was not found in Google drive link.\"** in the cell below.\n",
        "*   This is a recent error in Torchtext 0.11.0 due to the dataset URL changing and/or changes to requests library.\n",
        "* We are trying to find a workaround.\n",
        "\n",
        "\n",
        "# Code that follows remains for illustrative purposes."
      ],
      "metadata": {
        "id": "9t5v3gJyTbAq"
      }
    },
    {
      "cell_type": "code",
      "source": [
        "import spacy\n",
        "from torchtext.data.utils import get_tokenizer\n",
        "from datasets import load_dataset\n",
        "\n",
        "# --- 2. 'datasets' 라이브러리로 안정적인 데이터 로드 ---\n",
        "# 로그인이나 깨진 URL 걱정 없이 'opus_books' 공개 데이터셋을 바로 불러옵니다.\n",
        "print(\"데이터셋 로딩 중...\")\n",
        "raw_datasets = load_dataset(\"opus_books\", \"en-fr\", split='train')\n",
        "print(\"데이터셋 로딩 완료.\")\n",
        "\n",
        "# --- 3. 기존 코드와 호환되는 'train_iter' 생성 ---\n",
        "# 기존 for문이 (영어 문장, 프랑스어 문장) 쌍을 기대하므로, 형식을 맞춰줍니다.\n",
        "def data_iterator():\n",
        "    for example in raw_datasets:\n",
        "        yield (example['translation']['en'], example['translation']['fr'])\n",
        "\n",
        "train_iter = data_iterator()"
      ],
      "metadata": {
        "colab": {
          "base_uri": "https://localhost:8080/",
          "height": 167,
          "referenced_widgets": [
            "473f0d92463b4ea5bac2c0a1a1daa700",
            "80d43f613fc34677ad52bcf45d908f57",
            "aee4f44c0e3541a98fd682cccf418fee",
            "1dcbfbc697714d0694b5b631216cdcc3",
            "b77bd9b786c645f584af959ad718290d",
            "88f55d7367ae49b2824172c4dd8a025d",
            "1205025354284266b810bac687bcab43",
            "85b9933a78c74d39818b7b4dee15a4a1",
            "04620ee289944c53b030dbac00945aaa",
            "78ee77da3f1343dfb73c8a0815c579d8",
            "31089555c94f44a5861763903638260f",
            "b0e470bf44cb4a338c31b56753973f71",
            "0fe338238c96436bafe6c9d722f9024d",
            "150fc09f2559467bb51d408ba711f4de",
            "7355542e7be1435d99dbb3a0d43b4802",
            "a076b100a20f4aeba79974124d9aff0e",
            "f0f18e58b5ba46d9b6d3a660a3935c65",
            "1888af1e0e0642a0a605bc1effbcb1a5",
            "bcf9bae28b4b4638ae4cefb2b01054ed",
            "8868684a68dd436986155ac3cbb5a818",
            "ef8ba571d95c4cb7be84d24b86e4bf57",
            "1d2e034d85734cdea26498d26b08b5e5",
            "fcdc9def9af84db692104a777166576e",
            "b5c320a13b194343b813b4b841b6b902",
            "142097aaf7ac4c55a7a7cc3f890b6858",
            "646d1e2644f2461fb8e361856101b392",
            "b9918c25e6be4603b09f90e326c62521",
            "4affb1ad7a624124b8907f4e7a6967d1",
            "228ac310c2674c69b4c45b726c3fd4b2",
            "ee5bc5b04b6a4a7daa8747bb9db19854",
            "e73030259d5b47ccb8bb2fd6d912d1d2",
            "ea2e0de813c34db28d8976a00804d5fb",
            "69d57d9c3418446dacf5701c46de2b42"
          ]
        },
        "id": "JS8p4teoT7lJ",
        "outputId": "f1a23dd4-b848-46d5-c9f6-3de549ee6775"
      },
      "execution_count": 6,
      "outputs": [
        {
          "output_type": "stream",
          "name": "stdout",
          "text": [
            "필수 라이브러리 설치 완료.\n",
            "데이터셋 로딩 중...\n"
          ]
        },
        {
          "output_type": "display_data",
          "data": {
            "text/plain": [
              "README.md: 0.00B [00:00, ?B/s]"
            ],
            "application/vnd.jupyter.widget-view+json": {
              "version_major": 2,
              "version_minor": 0,
              "model_id": "473f0d92463b4ea5bac2c0a1a1daa700"
            }
          },
          "metadata": {}
        },
        {
          "output_type": "display_data",
          "data": {
            "text/plain": [
              "train-00000-of-00001.parquet:   0%|          | 0.00/21.0M [00:00<?, ?B/s]"
            ],
            "application/vnd.jupyter.widget-view+json": {
              "version_major": 2,
              "version_minor": 0,
              "model_id": "b0e470bf44cb4a338c31b56753973f71"
            }
          },
          "metadata": {}
        },
        {
          "output_type": "display_data",
          "data": {
            "text/plain": [
              "Generating train split:   0%|          | 0/127085 [00:00<?, ? examples/s]"
            ],
            "application/vnd.jupyter.widget-view+json": {
              "version_major": 2,
              "version_minor": 0,
              "model_id": "fcdc9def9af84db692104a777166576e"
            }
          },
          "metadata": {}
        },
        {
          "output_type": "stream",
          "name": "stdout",
          "text": [
            "데이터셋 로딩 완료.\n"
          ]
        }
      ]
    },
    {
      "cell_type": "markdown",
      "source": [
        "# WARNING:\n",
        "If you get an error running the next cell, it's probably because you didn't restart the runtime in step 1."
      ],
      "metadata": {
        "id": "MqwVE35Sv64Y"
      }
    },
    {
      "cell_type": "code",
      "source": [
        "train_iter = IWSLT2016(split=('train'),\n",
        "                       language_pair=('en','fr'))"
      ],
      "metadata": {
        "id": "ffnXL02wUoVs",
        "colab": {
          "base_uri": "https://localhost:8080/"
        },
        "outputId": "77f2f376-c2a5-4ada-f317-01b8f91487f5"
      },
      "execution_count": 2,
      "outputs": [
        {
          "output_type": "stream",
          "name": "stderr",
          "text": [
            "/usr/local/lib/python3.12/dist-packages/torchdata/datapipes/__init__.py:18: UserWarning: \n",
            "################################################################################\n",
            "WARNING!\n",
            "The 'datapipes', 'dataloader2' modules are deprecated and will be removed in a\n",
            "future torchdata release! Please see https://github.com/pytorch/data/issues/1196\n",
            "to learn more and leave feedback.\n",
            "################################################################################\n",
            "\n",
            "  deprecation_warning()\n"
          ]
        }
      ]
    },
    {
      "cell_type": "code",
      "source": [
        "tokenizer_en = get_tokenizer('spacy',language='en_core_web_sm')\n",
        "tokenizer_fr = get_tokenizer('spacy',language='fr_core_news_sm')"
      ],
      "metadata": {
        "id": "6ZuMXQcDUvy5"
      },
      "execution_count": 7,
      "outputs": []
    },
    {
      "cell_type": "code",
      "source": [
        "%%time\n",
        "sent_len_en = []\n",
        "sent_len_fr = []\n",
        "iter_len = 0\n",
        "for en_sent, fr_sent in train_iter:\n",
        "  sent_len_en.append(len(tokenizer_en(en_sent)))\n",
        "  sent_len_fr.append(len(tokenizer_fr(fr_sent)))\n",
        "  iter_len += 1\n",
        "print(f'Dataset contains {iter_len} sentences.')\n"
      ],
      "metadata": {
        "colab": {
          "base_uri": "https://localhost:8080/"
        },
        "id": "buxZZErQZNYY",
        "outputId": "8a285716-4aa5-4ba0-f2c9-3cc1003923f5"
      },
      "execution_count": 9,
      "outputs": [
        {
          "output_type": "stream",
          "name": "stdout",
          "text": [
            "Dataset contains 127085 sentences.\n",
            "CPU times: user 1min 28s, sys: 137 ms, total: 1min 29s\n",
            "Wall time: 1min 32s\n"
          ]
        }
      ]
    },
    {
      "cell_type": "markdown",
      "source": [
        "## Check sentence lengths in dataset\n",
        "Are the buckets sizes good?"
      ],
      "metadata": {
        "id": "4oay4E7q4A01"
      }
    },
    {
      "cell_type": "code",
      "source": [
        "bucket_sizes = [(5, 10), (10, 15), (20, 25), (40, 50)]"
      ],
      "metadata": {
        "id": "XkV01PwRYAbY"
      },
      "execution_count": 10,
      "outputs": []
    },
    {
      "cell_type": "code",
      "source": [
        "import matplotlib.pyplot as plt\n",
        "print(np.array(sent_len_en).min(), np.array(sent_len_en).max())\n",
        "plt.hist(sent_len_en, range=(0,100))\n",
        "\n",
        "print(np.array(sent_len_fr).min(), np.array(sent_len_fr).max())\n",
        "plt.figure\n",
        "plt.hist(sent_len_fr, range=(0,100))"
      ],
      "metadata": {
        "colab": {
          "base_uri": "https://localhost:8080/",
          "height": 537
        },
        "id": "GgIaq2GpctYI",
        "outputId": "b8dcd6b7-c82c-4113-dc94-b6c4694188b4"
      },
      "execution_count": 11,
      "outputs": [
        {
          "output_type": "stream",
          "name": "stdout",
          "text": [
            "1 488\n",
            "1 433\n"
          ]
        },
        {
          "output_type": "execute_result",
          "data": {
            "text/plain": [
              "(array([21883., 38331., 27891., 16807.,  9641.,  5177.,  2818.,  1651.,\n",
              "          966.,   683.]),\n",
              " array([  0.,  10.,  20.,  30.,  40.,  50.,  60.,  70.,  80.,  90., 100.]),\n",
              " <BarContainer object of 10 artists>)"
            ]
          },
          "metadata": {},
          "execution_count": 11
        },
        {
          "output_type": "display_data",
          "data": {
            "text/plain": [
              "<Figure size 640x480 with 1 Axes>"
            ],
            "image/png": "[encoded data removed]"
          },
          "metadata": {}
        }
      ]
    },
    {
      "cell_type": "markdown",
      "source": [
        "# Create Vocabularies (en, fr)"
      ],
      "metadata": {
        "id": "MiFsVsYH33g0"
      }
    },
    {
      "cell_type": "code",
      "source": [
        "from torchtext.vocab import build_vocab_from_iterator\n",
        "from datasets import load_dataset\n",
        "\n",
        "# --- 1. 이전 단계에서 정의했던 데이터 로더 함수를 다시 사용 ---\n",
        "# (이 함수는 실행할 때마다 데이터셋을 처음부터 다시 읽어주는 생성기입니다)\n",
        "def data_iterator():\n",
        "    raw_datasets = load_dataset(\"opus_books\", \"en-fr\", split='train')\n",
        "    for example in raw_datasets:\n",
        "        yield (example['translation']['en'], example['translation']['fr'])\n",
        "\n",
        "# --- 2. 기존 코드의 로직 (수정 거의 없음) ---\n",
        "# 이 로직은 원래 코드와 동일합니다.\n",
        "def yield_tokens(data_iter, language_index):\n",
        "    # 영어는 0번 인덱스, 프랑스어는 1번 인덱스\n",
        "    for data_sample in data_iter:\n",
        "        yield tokenizer_en(data_sample[language_index]) if language_index == 0 else tokenizer_fr(data_sample[language_index])\n",
        "\n",
        "UNK_IDX, PAD_IDX, GO_IDX, EOS_IDX = 0, 1, 2, 3\n",
        "special_symbols = ['<unk>', '<pad>', '<go>', '<eos>']\n",
        "\n",
        "# --- 3. 단어장 생성 (IWSLT2016 대신 data_iterator() 사용) ---\n",
        "print(\"영어 단어장 생성 중...\")\n",
        "# data_iterator()를 호출하여 영어용 데이터 스트림 생성\n",
        "train_iter_en = data_iterator()\n",
        "vocab_en = build_vocab_from_iterator(\n",
        "                  yield_tokens(train_iter_en, 0), # 영어 인덱스 0\n",
        "                  min_freq=1,\n",
        "                  specials=special_symbols,\n",
        "                  special_first=True)\n",
        "vocab_en.set_default_index(UNK_IDX)\n",
        "print(\"영어 단어장 생성 완료.\")\n",
        "\n",
        "\n",
        "print(\"프랑스어 단어장 생성 중...\")\n",
        "# data_iterator()를 다시 호출하여 프랑스어용 데이터 스트림 생성\n",
        "train_iter_fr = data_iterator()\n",
        "vocab_fr = build_vocab_from_iterator(\n",
        "                  yield_tokens(train_iter_fr, 1), # 프랑스어 인덱스 1\n",
        "                  min_freq=1,\n",
        "                  specials=special_symbols,\n",
        "                  special_first=True)\n",
        "vocab_fr.set_default_index(UNK_IDX)\n",
        "print(\"프랑스어 단어장 생성 완료.\")\n",
        "\n",
        "\n",
        "# --- 4. 결과 확인 ---\n",
        "print(f\"\\n영어 단어장 크기: {len(vocab_en)}\")\n",
        "print(f\"프랑스어 단어장 크기: {len(vocab_fr)}\")"
      ],
      "metadata": {
        "colab": {
          "base_uri": "https://localhost:8080/"
        },
        "id": "e_-IjjNj2UrZ",
        "outputId": "4991b456-d667-41b4-95ad-66d30b0e7f4a"
      },
      "execution_count": 13,
      "outputs": [
        {
          "output_type": "stream",
          "name": "stdout",
          "text": [
            "영어 단어장 생성 중...\n",
            "영어 단어장 생성 완료.\n",
            "프랑스어 단어장 생성 중...\n",
            "프랑스어 단어장 생성 완료.\n",
            "\n",
            "영어 단어장 크기: 66389\n",
            "프랑스어 단어장 크기: 77676\n"
          ]
        }
      ]
    },
    {
      "cell_type": "code",
      "source": [
        "print(len(vocab_en), len(vocab_fr))"
      ],
      "metadata": {
        "colab": {
          "base_uri": "https://localhost:8080/"
        },
        "id": "TI30VfRd3pRV",
        "outputId": "fcd0f409-4d0b-408a-8b05-790962b86811"
      },
      "execution_count": 14,
      "outputs": [
        {
          "output_type": "stream",
          "name": "stdout",
          "text": [
            "66389 77676\n"
          ]
        }
      ]
    },
    {
      "cell_type": "markdown",
      "source": [
        "# Preprocess Data"
      ],
      "metadata": {
        "id": "BoMR-GjY4NRV"
      }
    },
    {
      "cell_type": "code",
      "source": [
        "# Token processing:\n",
        "#   source: pad and reverse\n",
        "#   target: add GO, EOS, and pad\n",
        "\n",
        "def process_tokens(source, target, bucket_sizes):\n",
        "  # find bucket_index\n",
        "  for i in range(len(bucket_sizes)+2):\n",
        "    # truncate if we exhauset list of buckets\n",
        "    if i >= len(bucket_sizes):\n",
        "      bucket = bucket_sizes[i-1]\n",
        "      bucket_id = i-1\n",
        "      if len(source) > bucket[0]:\n",
        "        source = source[:bucket[0]]\n",
        "      if len(target) > (bucket[1]-2):\n",
        "        target = target[:bucket[1]-2]\n",
        "      break\n",
        "\n",
        "    bucket = bucket_sizes[i]\n",
        "    if (len(source) < bucket[0]) and ((len(target)+1) < bucket[1]):\n",
        "      bucket_id = i\n",
        "      break\n",
        "\n",
        "  source += ((bucket_sizes[bucket_id][0] - len(source)) * ['<pad>'])\n",
        "  source = list(reversed(source))\n",
        "\n",
        "  target.insert(0,'<go>')\n",
        "  target.append('<eos>')\n",
        "  target += (bucket_sizes[bucket_id][1] - len(target)) * ['<pad>']\n",
        "\n",
        "  return vocab_en(source), vocab_fr(target), bucket_id\n",
        "\n",
        "  # source_t = torch.tensor(vocab_en(source), dtype=torch.float32)\n",
        "  # target_t = torch.tensor(vocab_fr(target), dtype=torch.float32)\n",
        "  # return source_t, target_t, bucket_id"
      ],
      "metadata": {
        "id": "h84E22mynCjT"
      },
      "execution_count": 15,
      "outputs": []
    },
    {
      "cell_type": "code",
      "source": [
        "# 1. IWSLT2016(...) 대신, 우리가 만든 data_iterator()를 사용합니다.\n",
        "train_iter = data_iterator()\n",
        "\n",
        "# 2. 나머지 코드는 그대로 사용합니다.\n",
        "for sent_en, sent_fr  in train_iter:\n",
        "  # 이 코드가 작동하려면 process_tokens 함수와 bucket_sizes 변수가\n",
        "  # 노트북의 위쪽 셀 어딘가에 미리 정의되어 있어야 합니다.\n",
        "  source, target, bucket_id = process_tokens(tokenizer_en(sent_en),\n",
        "                                          tokenizer_fr(sent_fr),\n",
        "                                          bucket_sizes)\n",
        "  print(bucket_id, bucket_sizes[bucket_id])\n",
        "  print(len(source), source)\n",
        "  print(len(target),target)\n",
        "\n",
        "  break"
      ],
      "metadata": {
        "colab": {
          "base_uri": "https://localhost:8080/"
        },
        "id": "5zMLvgPPojjr",
        "outputId": "3907b0c9-13ce-4537-9b79-60831c4d7f9e"
      },
      "execution_count": 17,
      "outputs": [
        {
          "output_type": "stream",
          "name": "stdout",
          "text": [
            "0 (5, 10)\n",
            "5 [1, 1, 1, 45530, 45]\n",
            "10 [2, 84, 177, 776, 3, 1, 1, 1, 1, 1]\n"
          ]
        }
      ]
    },
    {
      "cell_type": "code",
      "source": [
        "def create_bucketed_datasets(data_iter, bucket_sizes, max_data_size=None):\n",
        "  datasets = []\n",
        "  for i in range(len(bucket_sizes)):\n",
        "    datasets.append([])\n",
        "\n",
        "  iter_len = 0\n",
        "  for sent_en, sent_fr  in train_iter:\n",
        "    source, target, bucket_id = process_tokens(tokenizer_en(sent_en),\n",
        "                                    tokenizer_fr(sent_fr),\n",
        "                                    bucket_sizes)\n",
        "    datasets[bucket_id].append((source, target))\n",
        "    iter_len += 1\n",
        "    if max_data_size != None and iter_len > max_data_size:\n",
        "      break\n",
        "    #break\n",
        "  print(f'Dataset contains {iter_len} sentences.')\n",
        "  return datasets"
      ],
      "metadata": {
        "id": "_OtEofGqfaqG"
      },
      "execution_count": 18,
      "outputs": []
    },
    {
      "cell_type": "code",
      "source": [
        "# 1. IWSLT2016(...) 대신, 우리가 만든 data_iterator()를 사용합니다.\n",
        "train_iter = data_iterator()\n",
        "\n",
        "# 2. 나머지 코드는 그대로 사용합니다.\n",
        "# 이 코드가 작동하려면 create_bucketed_datasets 함수와 bucket_sizes 변수가\n",
        "# 노트북의 위쪽 셀 어딘가에 미리 정의되어 있어야 합니다.\n",
        "datasets = create_bucketed_datasets(train_iter, bucket_sizes)\n",
        "\n",
        "print(\"데이터셋 버킷 생성 완료!\")"
      ],
      "metadata": {
        "colab": {
          "base_uri": "https://localhost:8080/"
        },
        "id": "YaACi58B6PHh",
        "outputId": "b1133320-1fde-44c9-bf10-6916b22a5b59"
      },
      "execution_count": 20,
      "outputs": [
        {
          "output_type": "stream",
          "name": "stdout",
          "text": [
            "Dataset contains 127085 sentences.\n",
            "데이터셋 버킷 생성 완료!\n"
          ]
        }
      ]
    },
    {
      "cell_type": "code",
      "source": [
        "for dataset in datasets:\n",
        "  print(len(dataset), len(dataset[0][0]), len(dataset[0][1]))\n",
        "datasets[0][0][1] # dataset, sample, token_list"
      ],
      "metadata": {
        "colab": {
          "base_uri": "https://localhost:8080/"
        },
        "id": "uiDzqkp39ns1",
        "outputId": "9ab89a9d-37b8-47d0-8a27-377ed023200b"
      },
      "execution_count": 21,
      "outputs": [
        {
          "output_type": "stream",
          "name": "stdout",
          "text": [
            "3275 5 10\n",
            "17317 10 15\n",
            "38443 20 25\n",
            "68050 40 50\n"
          ]
        },
        {
          "output_type": "execute_result",
          "data": {
            "text/plain": [
              "[2, 84, 177, 776, 3, 1, 1, 1, 1, 1]"
            ]
          },
          "metadata": {},
          "execution_count": 21
        }
      ]
    },
    {
      "cell_type": "markdown",
      "source": [
        "# Create Dataloaders for batching"
      ],
      "metadata": {
        "id": "DN9j3GmQ8I0r"
      }
    },
    {
      "cell_type": "code",
      "source": [
        "# When we get a batch, the data should be same bucket size\n",
        "# Create separate Map-Style datasets based on bucket size\n",
        "# Each dataset will have a separate Dataloader\n",
        "from torch.utils.data import Dataset\n",
        "\n",
        "class BucketedDataset(Dataset):\n",
        "  def __init__(self, bucketed_dataset, bucket_size):\n",
        "    super(BucketedDataset, self).__init__()\n",
        "    self.length = len(bucketed_dataset)\n",
        "    self.input_len = bucket_size[0]\n",
        "    self.target_len = bucket_size[1]\n",
        "    self.bucketed_dataset = bucketed_dataset\n",
        "\n",
        "  def __getitem__(self, index):\n",
        "    return (torch.tensor(self.bucketed_dataset[index][0],\n",
        "                         dtype=torch.float32),\n",
        "            torch.tensor(self.bucketed_dataset[index][1],\n",
        "                         dtype=torch.float32))\n",
        "\n",
        "  def __len__(self):\n",
        "    return self.length\n"
      ],
      "metadata": {
        "id": "CYFgAn2vYqnJ"
      },
      "execution_count": 22,
      "outputs": []
    },
    {
      "cell_type": "code",
      "source": [
        "bucketed_datasets = []\n",
        "for i, dataset in enumerate(datasets):\n",
        "  bucketed_datasets.append(BucketedDataset(dataset,\n",
        "                                           bucket_sizes[i]))\n",
        "# for dataset in bucketed_datasets:\n",
        "#   print(len(dataset))\n",
        "#   print(dataset[0])"
      ],
      "metadata": {
        "id": "KS5b3_sa8b4q"
      },
      "execution_count": 23,
      "outputs": []
    },
    {
      "cell_type": "markdown",
      "source": [
        "# Set up Dataloaders for batching"
      ],
      "metadata": {
        "id": "8h_iPeU0E9Ar"
      }
    },
    {
      "cell_type": "code",
      "source": [
        "from torch.utils.data import DataLoader"
      ],
      "metadata": {
        "id": "57GrocqTFHEq"
      },
      "execution_count": 24,
      "outputs": []
    },
    {
      "cell_type": "code",
      "source": [
        "dataloaders = []\n",
        "for dataset in bucketed_datasets:\n",
        "  dataloaders.append(DataLoader(dataset,\n",
        "                                batch_size=32,\n",
        "                                shuffle=True))"
      ],
      "metadata": {
        "id": "GTITMQ_g0_Ss"
      },
      "execution_count": 25,
      "outputs": []
    },
    {
      "cell_type": "markdown",
      "source": [
        "# Training"
      ],
      "metadata": {
        "id": "3mQkttl8FYQt"
      }
    },
    {
      "cell_type": "code",
      "source": [
        "import torch.nn as nn\n",
        "\n",
        "class TranslateLSTM(nn.Module):\n",
        "  def __init__(self):\n",
        "    super(TranslateLSTM, self).__init__()\n",
        "    self.layer = nn.Linear(10,1)\n",
        "\n",
        "  def forward(self, x):\n",
        "    return self.layer(x)"
      ],
      "metadata": {
        "id": "sJST9iruLhLs"
      },
      "execution_count": 26,
      "outputs": []
    },
    {
      "cell_type": "code",
      "source": [
        "import torch.nn as nn\n",
        "import torch.optim as optim\n",
        "\n",
        "model = TranslateLSTM()\n",
        "loss_fn = nn.CrossEntropyLoss()\n",
        "optimizer = optim.Adam(model.parameters())\n",
        "\n",
        "def train(source, target):\n",
        "  optimizer.zero_grad()\n",
        "  outputs = model(inputs)\n",
        "  loss = loss_fn(outputs, inputs)\n",
        "  loss.backward()\n",
        "  optimizer.step()\n",
        "\n",
        "  return loss, output"
      ],
      "metadata": {
        "id": "10C8LMzRMIei"
      },
      "execution_count": 27,
      "outputs": []
    },
    {
      "cell_type": "code",
      "source": [
        "# 모델 구조 확인 코드\n",
        "print(\"모델 구조:\")\n",
        "print(model)\n",
        "\n",
        "print(\"\\nOptimizer:\", optimizer.__class__.__name__)\n",
        "print(\"Loss function:\", loss_fn.__class__.__name__)\n",
        "\n",
        "# 파라미터 수 간단 확인\n",
        "total_params = sum(p.numel() for p in model.parameters())\n",
        "trainable_params = sum(p.numel() for p in model.parameters() if p.requires_grad)\n",
        "print(f\"\\nTotal parameters: {total_params:,} (trainable: {trainable_params:,})\")"
      ],
      "metadata": {
        "colab": {
          "base_uri": "https://localhost:8080/"
        },
        "id": "4lEaHgtyd5KA",
        "outputId": "d62fe882-aaee-4c86-e9ca-e7f0990057b8"
      },
      "execution_count": 33,
      "outputs": [
        {
          "output_type": "stream",
          "name": "stdout",
          "text": [
            "모델 구조:\n",
            "Sequential(\n",
            "  (0): Linear(in_features=16, out_features=32, bias=True)\n",
            "  (1): ReLU()\n",
            "  (2): Linear(in_features=32, out_features=3, bias=True)\n",
            ")\n",
            "\n",
            "Optimizer: Adam\n",
            "Loss function: CrossEntropyLoss\n",
            "\n",
            "Total parameters: 643 (trainable: 643)\n"
          ]
        }
      ]
    }
  ]
}
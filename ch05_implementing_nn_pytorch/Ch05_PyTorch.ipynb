{
  "nbformat": 4,
  "nbformat_minor": 0,
  "metadata": {
    "colab": {
      "name": "Ch05_PyTorch.ipynb",
      "provenance": [],
      "include_colab_link": true
    },
    "kernelspec": {
      "name": "python3",
      "display_name": "Python 3"
    },
    "language_info": {
      "name": "python"
    }
  },
  "cells": [
    {
      "cell_type": "markdown",
      "metadata": {
        "id": "view-in-github",
        "colab_type": "text"
      },
      "source": [
        "<a href=\"https://colab.research.google.com/github/jaydenchoe/Fundamentals-of-Deep-Learning-Book/blob/master/ch05_implementing_nn_pytorch/Ch05_PyTorch.ipynb\" target=\"_parent\"><img src=\"https://colab.research.google.com/assets/colab-badge.svg\" alt=\"Open In Colab\"/></a>"
      ]
    },
    {
      "cell_type": "markdown",
      "metadata": {
        "id": "F07HKWTk8VBx"
      },
      "source": [
        "#PyTorch Tensors"
      ]
    },
    {
      "cell_type": "code",
      "metadata": {
        "id": "p4uafWiZ8cVZ",
        "colab": {
          "base_uri": "https://localhost:8080/"
        },
        "outputId": "48445390-6b39-4dae-ab3f-c0f226703cf8"
      },
      "source": [
        "import torch\n",
        "torch.manual_seed(0) # for reproducability"
      ],
      "execution_count": 1,
      "outputs": [
        {
          "output_type": "execute_result",
          "data": {
            "text/plain": [
              "<torch._C.Generator at 0x78e06719fe90>"
            ]
          },
          "metadata": {},
          "execution_count": 1
        }
      ]
    },
    {
      "cell_type": "markdown",
      "metadata": {
        "id": "5S-vhnqa8v1p"
      },
      "source": [
        "##Tensor Init"
      ]
    },
    {
      "cell_type": "code",
      "metadata": {
        "id": "JLNnbQTI8Rav"
      },
      "source": [
        "arr = [1,2]\n",
        "tensor = torch.tensor(arr)\n",
        "val = 2.0\n",
        "tensor = torch.tensor(val)"
      ],
      "execution_count": 2,
      "outputs": []
    },
    {
      "cell_type": "code",
      "metadata": {
        "id": "UjQX09lMWloJ"
      },
      "source": [
        "import numpy as np\n",
        "np_arr = np.array([1,2])\n",
        "x_t = torch.from_numpy(np_arr)"
      ],
      "execution_count": 3,
      "outputs": []
    },
    {
      "cell_type": "code",
      "metadata": {
        "id": "nAuimXkkW25x"
      },
      "source": [
        "zeros_t = torch.zeros((2,3)) # Returns 2x3 tensor of zeros\n",
        "ones_t = torch.ones((2,3)) # Returns 2x3 tensor of ones\n",
        "rand_t = torch.randn((2,3)) # Returns 2x3 tensor of random numbers"
      ],
      "execution_count": 4,
      "outputs": []
    },
    {
      "cell_type": "markdown",
      "metadata": {
        "id": "kyaxqW2r843z"
      },
      "source": [
        "## Tensor Attributes"
      ]
    },
    {
      "cell_type": "code",
      "metadata": {
        "id": "kVdTfSyb8rzG",
        "colab": {
          "base_uri": "https://localhost:8080/"
        },
        "outputId": "f954bcdc-f56c-4519-ee82-0ee9204e5d0d"
      },
      "source": [
        "zeros_t.shape # Returns torch.Size([2, 3])"
      ],
      "execution_count": 5,
      "outputs": [
        {
          "output_type": "execute_result",
          "data": {
            "text/plain": [
              "torch.Size([2, 3])"
            ]
          },
          "metadata": {},
          "execution_count": 5
        }
      ]
    },
    {
      "cell_type": "code",
      "metadata": {
        "id": "T3JD0VX6838x",
        "colab": {
          "base_uri": "https://localhost:8080/"
        },
        "outputId": "c331e1f0-44a8-4dfe-c359-0a913e6591d6"
      },
      "source": [
        "x_t = torch.tensor(2.0)\n",
        "x_t.dtype # Returns torch.float32"
      ],
      "execution_count": 6,
      "outputs": [
        {
          "output_type": "execute_result",
          "data": {
            "text/plain": [
              "torch.float32"
            ]
          },
          "metadata": {},
          "execution_count": 6
        }
      ]
    },
    {
      "cell_type": "code",
      "metadata": {
        "id": "LsAfVEf2BssB"
      },
      "source": [
        "arr = [1,2]\n",
        "x_t = torch.tensor(arr, dtype=torch.float32)"
      ],
      "execution_count": 7,
      "outputs": []
    },
    {
      "cell_type": "code",
      "metadata": {
        "id": "Re9-RKyVBvm1",
        "colab": {
          "base_uri": "https://localhost:8080/"
        },
        "outputId": "216e67ab-3e49-42b4-c1c7-24032894934e"
      },
      "source": [
        "x_t.device # Returns device(type='cpu') by default"
      ],
      "execution_count": 8,
      "outputs": [
        {
          "output_type": "execute_result",
          "data": {
            "text/plain": [
              "device(type='cpu')"
            ]
          },
          "metadata": {},
          "execution_count": 8
        }
      ]
    },
    {
      "cell_type": "code",
      "metadata": {
        "id": "Q4nLgr0hBypK"
      },
      "source": [
        "# PyTorch will use GPU if it's available\n",
        "device = 'cuda' if torch.cuda.is_available() else 'cpu'\n",
        "arr = [1,2]\n",
        "x_t = torch.tensor(arr, dtype=torch.float32, device=device)"
      ],
      "execution_count": 9,
      "outputs": []
    },
    {
      "cell_type": "code",
      "metadata": {
        "id": "HMvlzUQFB1m5"
      },
      "source": [
        "x_t = x_t.to(device, dtype=torch.int)"
      ],
      "execution_count": 10,
      "outputs": []
    },
    {
      "cell_type": "markdown",
      "metadata": {
        "id": "4SadKNln871T"
      },
      "source": [
        "## Tensor Operations"
      ]
    },
    {
      "cell_type": "code",
      "metadata": {
        "id": "gVmKbPR089YB"
      },
      "source": [
        "c = 10\n",
        "x_t = x_t*c"
      ],
      "execution_count": 11,
      "outputs": []
    },
    {
      "cell_type": "code",
      "metadata": {
        "colab": {
          "base_uri": "https://localhost:8080/"
        },
        "id": "8NJkZzRTBKzi",
        "outputId": "7cb99f95-4b43-41c9-897f-e6e7d6609615"
      },
      "source": [
        "x1_t = torch.zeros((1,2))\n",
        "x2_t = torch.ones((1,2))\n",
        "x1_t + x2_t\n",
        "# returns tensor([[1., 1.]])"
      ],
      "execution_count": 12,
      "outputs": [
        {
          "output_type": "execute_result",
          "data": {
            "text/plain": [
              "tensor([[1., 1.]])"
            ]
          },
          "metadata": {},
          "execution_count": 12
        }
      ]
    },
    {
      "cell_type": "code",
      "metadata": {
        "colab": {
          "base_uri": "https://localhost:8080/"
        },
        "id": "nQdOD6J7BNjW",
        "outputId": "86566a38-be63-4e89-8bf2-6a00e1f039c8"
      },
      "source": [
        "x1_t = torch.tensor([[1,2],[3,4]])\n",
        "x2_t = torch.tensor([[1,2,3],[4,5,6]])\n",
        "torch.matmul(x1_t, x2_t) # Returns tensor([[9,12,15],[19,26,33]])"
      ],
      "execution_count": 13,
      "outputs": [
        {
          "output_type": "execute_result",
          "data": {
            "text/plain": [
              "tensor([[ 9, 12, 15],\n",
              "        [19, 26, 33]])"
            ]
          },
          "metadata": {},
          "execution_count": 13
        }
      ]
    },
    {
      "cell_type": "code",
      "metadata": {
        "colab": {
          "base_uri": "https://localhost:8080/"
        },
        "id": "1C5gv5sWBR6p",
        "outputId": "79056b81-20ce-439e-a90a-eedc5dde3077"
      },
      "source": [
        "i,j,k = 0,1,1\n",
        "x3_t = torch.tensor([[[3,7,9],[2,4,5]],[[8,6,2],[3,9,1]]])\n",
        "print(x3_t)\n",
        "# out:\n",
        "# tensor([[[3, 7, 9],\n",
        "#          [2, 4, 5]],\n",
        "#         [[8, 6, 2],\n",
        "#          [3, 9, 1]]])\n",
        "\n",
        "x3_t[i,j,k]\n",
        "# out:\n",
        "# tensor(4)"
      ],
      "execution_count": 14,
      "outputs": [
        {
          "output_type": "stream",
          "name": "stdout",
          "text": [
            "tensor([[[3, 7, 9],\n",
            "         [2, 4, 5]],\n",
            "\n",
            "        [[8, 6, 2],\n",
            "         [3, 9, 1]]])\n"
          ]
        },
        {
          "output_type": "execute_result",
          "data": {
            "text/plain": [
              "tensor(4)"
            ]
          },
          "metadata": {},
          "execution_count": 14
        }
      ]
    },
    {
      "cell_type": "code",
      "metadata": {
        "colab": {
          "base_uri": "https://localhost:8080/"
        },
        "id": "0XMe_Ls7BW1A",
        "outputId": "e7406457-dcde-4b3c-e170-c5e23d7c07a1"
      },
      "source": [
        "x3_t[0] # Returns the matrix at position 0 in tensor\n",
        "x3_t[0,:,:] # Also returns the matrix at position 0 in tensor!\n",
        "# out:\n",
        "# tensor([[3, 7, 9],\n",
        "#         [2, 4, 1]])"
      ],
      "execution_count": 15,
      "outputs": [
        {
          "output_type": "execute_result",
          "data": {
            "text/plain": [
              "tensor([[3, 7, 9],\n",
              "        [2, 4, 5]])"
            ]
          },
          "metadata": {},
          "execution_count": 15
        }
      ]
    },
    {
      "cell_type": "code",
      "metadata": {
        "id": "n1N7VBdhBZqt",
        "colab": {
          "base_uri": "https://localhost:8080/"
        },
        "outputId": "4d0cda93-6e7c-4e7b-a06d-492c83332366"
      },
      "source": [
        "x3_t[0,1:3,:]\n",
        "# returns tensor([[2, 4, 5]])"
      ],
      "execution_count": 16,
      "outputs": [
        {
          "output_type": "execute_result",
          "data": {
            "text/plain": [
              "tensor([[2, 4, 5]])"
            ]
          },
          "metadata": {},
          "execution_count": 16
        }
      ]
    },
    {
      "cell_type": "code",
      "metadata": {
        "id": "ne5lWR2JBb-a"
      },
      "source": [
        "x3_t[0,1,2] = 1\n",
        "# out:\n",
        "# tensor([[[3, 7, 9],\n",
        "#          [2, 4, 1]],\n",
        "\n",
        "#         [[8, 6, 2],\n",
        "#          [3, 9, 1]]])"
      ],
      "execution_count": 17,
      "outputs": []
    },
    {
      "cell_type": "code",
      "metadata": {
        "id": "bKpC3twXBeBe"
      },
      "source": [
        "x_t = torch.randn(2,3,4)\n",
        "sub_tensor = torch.randn(2,4)\n",
        "x_t[0,1:3,:] = sub_tensor"
      ],
      "execution_count": 18,
      "outputs": []
    },
    {
      "cell_type": "code",
      "metadata": {
        "id": "7WyDzjhvBiol"
      },
      "source": [
        "x_t[0,1:3,:] = 1\n",
        "sub_tensor = torch.randn(1,4)\n",
        "x_t[0,1:3,:] = sub_tensor"
      ],
      "execution_count": 19,
      "outputs": []
    },
    {
      "cell_type": "markdown",
      "metadata": {
        "id": "MD8EA1gw9ApD"
      },
      "source": [
        "#Gradients in PyTorch"
      ]
    },
    {
      "cell_type": "code",
      "metadata": {
        "colab": {
          "base_uri": "https://localhost:8080/"
        },
        "id": "Xz6ksmHL9DRD",
        "outputId": "b533cf98-a201-43ac-a44b-18817e48c34a"
      },
      "source": [
        "x = torch.tensor(2.0, requires_grad=True)\n",
        "y = torch.tensor(3.0, requires_grad=True)\n",
        "z = torch.tensor(1.5, requires_grad=True)\n",
        "f = x**2+y**2+z**2\n",
        "f.backward()\n",
        "x.grad, y.grad, z.grad\n",
        "# out:\n",
        "# (tensor(4.), tensor(6.), tensor(3.))"
      ],
      "execution_count": 20,
      "outputs": [
        {
          "output_type": "execute_result",
          "data": {
            "text/plain": [
              "(tensor(4.), tensor(6.), tensor(3.))"
            ]
          },
          "metadata": {},
          "execution_count": 20
        }
      ]
    },
    {
      "cell_type": "markdown",
      "metadata": {
        "id": "tQ-2brO89ES0"
      },
      "source": [
        "# The PyTorch nn module"
      ]
    },
    {
      "cell_type": "code",
      "metadata": {
        "id": "yDw2Kvg49GgO"
      },
      "source": [
        "import torch.nn as nn"
      ],
      "execution_count": 21,
      "outputs": []
    },
    {
      "cell_type": "code",
      "metadata": {
        "id": "gkoyexGYAC7Q"
      },
      "source": [
        "in_dim, out_dim = 256, 10\n",
        "vec = torch.randn(256)\n",
        "layer = nn.Linear(in_dim, out_dim, bias=True)\n",
        "out = layer(vec)"
      ],
      "execution_count": 22,
      "outputs": []
    },
    {
      "cell_type": "code",
      "metadata": {
        "id": "172mP5cuAFyd"
      },
      "source": [
        "W = torch.rand(10,256)\n",
        "b = torch.zeros(10,1)\n",
        "out = torch.matmul(W, vec) + b"
      ],
      "execution_count": 23,
      "outputs": []
    },
    {
      "cell_type": "code",
      "metadata": {
        "id": "mtNoAAE6AKcv"
      },
      "source": [
        "in_dim, feature_dim, out_dim = 784, 256, 10\n",
        "vec = torch.randn(784)\n",
        "layer1 = nn.Linear(in_dim, feature_dim, bias=True)\n",
        "layer2 = nn.Linear(feature_dim, out_dim, bias=True)\n",
        "out = layer2(layer1(vec))"
      ],
      "execution_count": 24,
      "outputs": []
    },
    {
      "cell_type": "code",
      "metadata": {
        "id": "MLRoVWgzANnr"
      },
      "source": [
        "relu = nn.ReLU()\n",
        "out = layer2(relu(layer1(vec)))"
      ],
      "execution_count": 25,
      "outputs": []
    },
    {
      "cell_type": "code",
      "metadata": {
        "id": "6bBeoIeMAR39"
      },
      "source": [
        "class BaseClassifier(nn.Module):\n",
        "  def __init__(self, in_dim, feature_dim, out_dim):\n",
        "    super(BaseClassifier, self).__init__()\n",
        "    self.layer1 = nn.Linear(in_dim, feature_dim, bias=True)\n",
        "    self.layer2 = nn.Linear(feature_dim, out_dim, bias=True)\n",
        "    self.relu = nn.ReLU()\n",
        "\n",
        "  def forward(self, x):\n",
        "    x = self.layer1(x)\n",
        "    x = self.relu(x)\n",
        "    out = self.layer2(x)\n",
        "    return out"
      ],
      "execution_count": 26,
      "outputs": []
    },
    {
      "cell_type": "code",
      "metadata": {
        "id": "snixCbP3Abuk"
      },
      "source": [
        "no_examples = 10\n",
        "in_dim, feature_dim, out_dim = 784, 256, 10\n",
        "x = torch.randn((no_examples, in_dim))\n",
        "classifier = BaseClassifier(in_dim, feature_dim, out_dim)\n",
        "out = classifier(x)"
      ],
      "execution_count": 27,
      "outputs": []
    },
    {
      "cell_type": "code",
      "metadata": {
        "id": "vg3QNC3TAe9D"
      },
      "source": [
        "loss = nn.CrossEntropyLoss()\n",
        "target = torch.tensor([0,3,2,8,2,9,3,7,1,6])\n",
        "computed_loss = loss(out, target)\n",
        "computed_loss.backward()"
      ],
      "execution_count": 28,
      "outputs": []
    },
    {
      "cell_type": "code",
      "metadata": {
        "colab": {
          "base_uri": "https://localhost:8080/"
        },
        "id": "J1p_J0g4ut3F",
        "outputId": "ad84d37b-7dca-4644-b776-2d72751fe965"
      },
      "source": [
        "for p in classifier.parameters():\n",
        "  print(p.shape)\n",
        "\n",
        "# out:\n",
        "# torch.Size([256, 784])\n",
        "# torch.Size([256])\n",
        "# torch.Size([10, 256])\n",
        "# torch.Size([10])"
      ],
      "execution_count": 29,
      "outputs": [
        {
          "output_type": "stream",
          "name": "stdout",
          "text": [
            "torch.Size([256, 784])\n",
            "torch.Size([256])\n",
            "torch.Size([10, 256])\n",
            "torch.Size([10])\n"
          ]
        }
      ]
    },
    {
      "cell_type": "code",
      "metadata": {
        "id": "DGb30o-VAlyz"
      },
      "source": [
        "from torch import optim\n",
        "\n",
        "lr = 1e-3\n",
        "optimizer = optim.SGD(classifier.parameters(), lr=lr)"
      ],
      "execution_count": 30,
      "outputs": []
    },
    {
      "cell_type": "code",
      "metadata": {
        "id": "WsVMNnSnAoey"
      },
      "source": [
        "optimizer.step() # Updates parameters via SGD\n",
        "optimizer.zero_grad() # Zeroes out gradients between minibatches"
      ],
      "execution_count": 31,
      "outputs": []
    },
    {
      "cell_type": "markdown",
      "metadata": {
        "id": "VCgfC7oM9H4I"
      },
      "source": [
        "#PyTorch Datasets and Dataloaders"
      ]
    },
    {
      "cell_type": "code",
      "metadata": {
        "id": "e4eOrEzr9Nni"
      },
      "source": [
        "from torch.utils.data import Dataset, DataLoader"
      ],
      "execution_count": 32,
      "outputs": []
    },
    {
      "cell_type": "code",
      "metadata": {
        "id": "gRgBTOpX0sRp"
      },
      "source": [
        "import numpy as np\n",
        "labels = np.array([2, 0, 4, 1])\n",
        "np.save('labels',labels)"
      ],
      "execution_count": 33,
      "outputs": []
    },
    {
      "cell_type": "code",
      "metadata": {
        "colab": {
          "base_uri": "https://localhost:8080/"
        },
        "id": "cvu8i9QX06LN",
        "outputId": "0958f8ce-f10f-487c-baef-d921b03db9ee"
      },
      "source": [
        "labels_1 = np.load('labels.npy')\n",
        "labels_1"
      ],
      "execution_count": 34,
      "outputs": [
        {
          "output_type": "execute_result",
          "data": {
            "text/plain": [
              "array([2, 0, 4, 1])"
            ]
          },
          "metadata": {},
          "execution_count": 34
        }
      ]
    },
    {
      "cell_type": "markdown",
      "source": [
        "### First download files for use in custom ImageDataset example"
      ],
      "metadata": {
        "id": "NGRIi9Cpgqf0"
      }
    },
    {
      "cell_type": "code",
      "source": [
        "!mkdir -p data\n",
        "!mkdir -p data/train\n",
        "\n",
        "!wget -O data/train/img_0.jpg -nc -q https://github.com/darksigma/Fundamentals-of-Deep-Learning-Book/raw/master/ch05_implementing_nn_pytorch/data/train/img_0.jpg\n",
        "!wget -O data/train/img_1.jpg -nc -q https://github.com/darksigma/Fundamentals-of-Deep-Learning-Book/raw/master/ch05_implementing_nn_pytorch/data/train/img_1.jpg\n",
        "!wget -O data/train/img_2.jpg -nc -q https://github.com/darksigma/Fundamentals-of-Deep-Learning-Book/raw/master/ch05_implementing_nn_pytorch/data/train/img_2.jpg\n",
        "!wget -O data/train/img_3.jpg -nc -q https://github.com/darksigma/Fundamentals-of-Deep-Learning-Book/raw/master/ch05_implementing_nn_pytorch/data/train/img_3.jpg\n",
        "!wget -O data/train/labels.npy -nc -q https://github.com/darksigma/Fundamentals-of-Deep-Learning-Book/raw/master/ch05_implementing_nn_pytorch/data/train/labels.npy"
      ],
      "metadata": {
        "id": "myX-sYoDeL-0"
      },
      "execution_count": 35,
      "outputs": []
    },
    {
      "cell_type": "code",
      "metadata": {
        "id": "3Cy4e5v4-nJY"
      },
      "source": [
        "import os\n",
        "from PIL import Image\n",
        "from torchvision import transforms\n",
        "\n",
        "class ImageDataset(Dataset):\n",
        "  def __init__(self, img_dir, label_file):\n",
        "    super(ImageDataset, self).__init__()\n",
        "    self.img_dir = img_dir\n",
        "    self.labels = torch.tensor(np.load(label_file, allow_pickle=True))\n",
        "    self.transforms = transforms.ToTensor()\n",
        "\n",
        "  def __getitem__(self, idx):\n",
        "    img_pth = os.path.join(self.img_dir, \"img_{}.jpg\".format(idx))\n",
        "    img = Image.open(img_pth)\n",
        "    img = self.transforms(img).flatten()\n",
        "    label = self.labels[idx]\n",
        "    return {\"data\":img, \"label\":label}\n",
        "\n",
        "  def __len__(self):\n",
        "    return len(self.labels)"
      ],
      "execution_count": 36,
      "outputs": []
    },
    {
      "cell_type": "code",
      "metadata": {
        "id": "9P5g3VFg-uwc"
      },
      "source": [
        "train_dataset = ImageDataset(img_dir='./data/train/',\n",
        "                             label_file='./data/train/labels.npy')\n",
        "\n",
        "train_loader = DataLoader(train_dataset,\n",
        "                          batch_size=4,\n",
        "                          shuffle=True)"
      ],
      "execution_count": 37,
      "outputs": []
    },
    {
      "cell_type": "code",
      "metadata": {
        "id": "245Aiav8-zdU",
        "colab": {
          "base_uri": "https://localhost:8080/"
        },
        "outputId": "961059ec-12e6-4a0f-80b0-db445ef9862f"
      },
      "source": [
        "for minibatch in train_loader:\n",
        "  data, labels = minibatch['data'], minibatch['label']\n",
        "  print(data)\n",
        "  print(labels)"
      ],
      "execution_count": 38,
      "outputs": [
        {
          "output_type": "stream",
          "name": "stdout",
          "text": [
            "tensor([[0., 0., 0.,  ..., 0., 0., 0.],\n",
            "        [0., 0., 0.,  ..., 0., 0., 0.],\n",
            "        [0., 0., 0.,  ..., 0., 0., 0.],\n",
            "        [0., 0., 0.,  ..., 0., 0., 0.]])\n",
            "tensor([1, 2, 0, 4])\n"
          ]
        }
      ]
    },
    {
      "cell_type": "markdown",
      "metadata": {
        "id": "hhIl1Li_9Pe7"
      },
      "source": [
        "#Building the MNIST Classifer in PyTorch"
      ]
    },
    {
      "cell_type": "code",
      "source": [
        "import matplotlib.pyplot as plt\n",
        "import torch\n",
        "from torch import optim\n",
        "import torch.nn as nn\n",
        "from torch.utils.data import Dataset, DataLoader\n",
        "from torchvision.datasets import MNIST\n",
        "from torchvision.transforms import ToTensor\n",
        "\n",
        "# For reproducability\n",
        "torch.manual_seed(0)"
      ],
      "metadata": {
        "colab": {
          "base_uri": "https://localhost:8080/"
        },
        "id": "YEaA22tUmZnJ",
        "outputId": "6f710a3c-476b-4eec-90f3-7046a0fc0458"
      },
      "execution_count": 39,
      "outputs": [
        {
          "output_type": "execute_result",
          "data": {
            "text/plain": [
              "<torch._C.Generator at 0x78e06719fe90>"
            ]
          },
          "metadata": {},
          "execution_count": 39
        }
      ]
    },
    {
      "cell_type": "code",
      "metadata": {
        "id": "uaGRqlxP9VCs",
        "outputId": "9c28126c-5e8d-42eb-984a-3ee8fce217bb",
        "colab": {
          "base_uri": "https://localhost:8080/"
        }
      },
      "source": [
        "class BaseClassifier(nn.Module):\n",
        "  def __init__(self, in_dim, feature_dim, out_dim):\n",
        "    super(BaseClassifier, self).__init__()\n",
        "    self.classifier = nn.Sequential(\n",
        "        nn.Linear(in_dim, feature_dim, bias=True),\n",
        "        nn.ReLU(),\n",
        "        nn.Linear(feature_dim, out_dim, bias=True)\n",
        "    )\n",
        "\n",
        "  def forward(self, x):\n",
        "    return self.classifier(x)\n",
        "\n",
        "\n",
        "# Load in MNIST dataset from PyTorch\n",
        "train_dataset = MNIST(\".\", train=True,\n",
        "                      download=True, transform=ToTensor())\n",
        "test_dataset = MNIST(\".\", train=False,\n",
        "                     download=True, transform=ToTensor())\n",
        "train_loader = DataLoader(train_dataset,\n",
        "                          batch_size=64, shuffle=True)\n",
        "test_loader = DataLoader(test_dataset,\n",
        "                         batch_size=64, shuffle=False)"
      ],
      "execution_count": 40,
      "outputs": [
        {
          "output_type": "stream",
          "name": "stderr",
          "text": [
            "100%|██████████| 9.91M/9.91M [00:00<00:00, 37.5MB/s]\n",
            "100%|██████████| 28.9k/28.9k [00:00<00:00, 1.15MB/s]\n",
            "100%|██████████| 1.65M/1.65M [00:00<00:00, 9.19MB/s]\n",
            "100%|██████████| 4.54k/4.54k [00:00<00:00, 5.90MB/s]\n"
          ]
        }
      ]
    },
    {
      "cell_type": "markdown",
      "source": [
        "# NOTE:\n",
        "The train() function below will take approx. 5-6 minutes to run with epochs = 40."
      ],
      "metadata": {
        "id": "8Qpb4Tb44oho"
      }
    },
    {
      "cell_type": "code",
      "metadata": {
        "id": "m0P-MpP-9lfl"
      },
      "source": [
        "# Instantiate model, optimizer, and hyperparameter(s)\n",
        "in_dim, feature_dim, out_dim = 784, 256, 10\n",
        "lr=1e-3\n",
        "loss_fn = nn.CrossEntropyLoss()\n",
        "epochs=40\n",
        "classifier = BaseClassifier(in_dim, feature_dim, out_dim)\n",
        "optimizer = optim.SGD(classifier.parameters(), lr=lr)\n",
        "\n",
        "def train(classifier=classifier,\n",
        "          optimizer=optimizer,\n",
        "          epochs=epochs,\n",
        "          loss_fn=loss_fn):\n",
        "\n",
        "  classifier.train()\n",
        "  loss_lt = []\n",
        "  for epoch in range(epochs):\n",
        "    running_loss = 0.0\n",
        "    for minibatch in train_loader:\n",
        "      data, target = minibatch\n",
        "      data = data.flatten(start_dim=1)\n",
        "      out = classifier(data)\n",
        "      computed_loss = loss_fn(out, target)\n",
        "      computed_loss.backward()\n",
        "      optimizer.step()\n",
        "      optimizer.zero_grad()\n",
        "      # Keep track of sum of loss of each minibatch\n",
        "      running_loss += computed_loss.item()\n",
        "    loss_lt.append(running_loss/len(train_loader))\n",
        "    print(\"Epoch: {} train loss: {}\".format(epoch+1, running_loss/len(train_loader)))\n",
        "\n",
        "  plt.plot([i for i in range(1,epochs+1)], loss_lt)\n",
        "  plt.xlabel(\"Epoch\")\n",
        "  plt.ylabel(\"Training Loss\")\n",
        "  plt.title(\n",
        "      \"MNIST Training Loss: optimizer {}, lr {}\".format(\"SGD\", lr))\n",
        "  plt.show()\n",
        "\n",
        "  # Save state to file as checkpoint\n",
        "  torch.save(classifier.state_dict(), 'mnist.pt')"
      ],
      "execution_count": 41,
      "outputs": []
    },
    {
      "cell_type": "code",
      "source": [
        "def test(classifier=classifier,\n",
        "          loss_fn = loss_fn):\n",
        "  classifier.eval()\n",
        "  accuracy = 0.0\n",
        "  computed_loss = 0.0\n",
        "\n",
        "  with torch.no_grad():\n",
        "      for data, target in test_loader:\n",
        "          data = data.flatten(start_dim=1)\n",
        "          out = classifier(data)\n",
        "          _, preds = out.max(dim=1)\n",
        "\n",
        "          # Get loss and accuracy\n",
        "          computed_loss += loss_fn(out, target)\n",
        "          accuracy += torch.sum(preds==target)\n",
        "\n",
        "      print(\"Test loss: {}, test accuracy: {}\".format(\n",
        "          computed_loss.item()/(len(test_loader)*64), accuracy*100.0/(len(test_loader)*64)))"
      ],
      "metadata": {
        "id": "pMiCCu8Nln8w"
      },
      "execution_count": 42,
      "outputs": []
    },
    {
      "cell_type": "code",
      "metadata": {
        "id": "g79BDGlp85Uc",
        "colab": {
          "base_uri": "https://localhost:8080/",
          "height": 1000
        },
        "outputId": "db222edf-988f-4939-bf88-065e91e4aa12"
      },
      "source": [
        "train()"
      ],
      "execution_count": 43,
      "outputs": [
        {
          "output_type": "stream",
          "name": "stdout",
          "text": [
            "Epoch: 1 train loss: 2.2152145513847694\n",
            "Epoch: 2 train loss: 1.9865606216225289\n",
            "Epoch: 3 train loss: 1.683976627997498\n",
            "Epoch: 4 train loss: 1.3707987704256703\n",
            "Epoch: 5 train loss: 1.1183070769187993\n",
            "Epoch: 6 train loss: 0.9397796302207752\n",
            "Epoch: 7 train loss: 0.8165212870915053\n",
            "Epoch: 8 train loss: 0.7291737100971278\n",
            "Epoch: 9 train loss: 0.6650732273676756\n",
            "Epoch: 10 train loss: 0.6160337255517049\n",
            "Epoch: 11 train loss: 0.5776981081027212\n",
            "Epoch: 12 train loss: 0.5468620342105183\n",
            "Epoch: 13 train loss: 0.5215045882821846\n",
            "Epoch: 14 train loss: 0.5004253231449676\n",
            "Epoch: 15 train loss: 0.4826867347523602\n",
            "Epoch: 16 train loss: 0.4672017598997301\n",
            "Epoch: 17 train loss: 0.45397686794686165\n",
            "Epoch: 18 train loss: 0.44245285898256403\n",
            "Epoch: 19 train loss: 0.4320858777014177\n",
            "Epoch: 20 train loss: 0.4230451910798229\n",
            "Epoch: 21 train loss: 0.4148440860640774\n",
            "Epoch: 22 train loss: 0.40739698911399475\n",
            "Epoch: 23 train loss: 0.40068822721047187\n",
            "Epoch: 24 train loss: 0.3944375062230299\n",
            "Epoch: 25 train loss: 0.38901369543726255\n",
            "Epoch: 26 train loss: 0.38361719700255625\n",
            "Epoch: 27 train loss: 0.37879045661896277\n",
            "Epoch: 28 train loss: 0.37421330763523514\n",
            "Epoch: 29 train loss: 0.37010113821863366\n",
            "Epoch: 30 train loss: 0.366127162822274\n",
            "Epoch: 31 train loss: 0.36230219220683013\n",
            "Epoch: 32 train loss: 0.35882150132391755\n",
            "Epoch: 33 train loss: 0.355325026330409\n",
            "Epoch: 34 train loss: 0.352178407566888\n",
            "Epoch: 35 train loss: 0.3490721983298945\n",
            "Epoch: 36 train loss: 0.34621961340149326\n",
            "Epoch: 37 train loss: 0.34358416290393773\n",
            "Epoch: 38 train loss: 0.3408053531241951\n",
            "Epoch: 39 train loss: 0.3382283466806544\n",
            "Epoch: 40 train loss: 0.3359032913581776\n"
          ]
        },
        {
          "output_type": "display_data",
          "data": {
            "text/plain": [
              "<Figure size 640x480 with 1 Axes>"
            ],
            "image/png": "[encoded data removed]"
          },
          "metadata": {}
        }
      ]
    },
    {
      "cell_type": "code",
      "metadata": {
        "id": "A3UsxvLd874B",
        "colab": {
          "base_uri": "https://localhost:8080/"
        },
        "outputId": "c4243d0b-5d39-4985-ffa9-fcb8a061428c"
      },
      "source": [
        "test()"
      ],
      "execution_count": 44,
      "outputs": [
        {
          "output_type": "stream",
          "name": "stdout",
          "text": [
            "Test loss: 0.0049846358359998955, test accuracy: 90.66481018066406\n"
          ]
        }
      ]
    }
  ]
}
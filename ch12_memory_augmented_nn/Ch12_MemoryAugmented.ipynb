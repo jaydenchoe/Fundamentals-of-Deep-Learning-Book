{
  "nbformat": 4,
  "nbformat_minor": 0,
  "metadata": {
    "colab": {
      "name": "Ch12_MemoryAugmented.ipynb",
      "provenance": [],
      "include_colab_link": true
    },
    "kernelspec": {
      "name": "python3",
      "display_name": "Python 3"
    },
    "language_info": {
      "name": "python"
    }
  },
  "cells": [
    {
      "cell_type": "markdown",
      "metadata": {
        "id": "view-in-github",
        "colab_type": "text"
      },
      "source": [
        "<a href=\"https://colab.research.google.com/github/jaydenchoe/Fundamentals-of-Deep-Learning-Book/blob/master/ch12_memory_augmented_nn/Ch12_MemoryAugmented.ipynb\" target=\"_parent\"><img src=\"https://colab.research.google.com/assets/colab-badge.svg\" alt=\"Open In Colab\"/></a>"
      ]
    },
    {
      "cell_type": "markdown",
      "source": [
        "#Implementing the DNC in PyTorch"
      ],
      "metadata": {
        "id": "AmTCQQ41h1gs"
      }
    },
    {
      "cell_type": "markdown",
      "source": [
        "# PyTorch Code\n",
        "Only the code printed in the book has been converted to PyTorch.  This notebook contains that code.\n",
        "\n",
        "However, the entire code set needed to run the training and testing of bAbI has not yet been converted.  For reference, the complete codeset can be found at https://github.com/darksigma/Fundamentals-of-Deep-Learning-Book/tree/master/first_edition_archive/archive/dnc\n",
        "\n",
        "The folder above contains the files referenced in the book:\n",
        "- mem_ops.py\n",
        "- preprocess.py\n",
        "- train_babi.py\n",
        "- test_babi.py"
      ],
      "metadata": {
        "id": "2XvSCp2f7foV"
      }
    },
    {
      "cell_type": "code",
      "source": [
        "import torch\n",
        "def Lt(L, wwt, p, N):\n",
        "\n",
        "    L_t = torch.zeros((N,N), dtype=torch.float32)\n",
        "    for i in range(N):\n",
        "        for j in range(N):\n",
        "            if i == j:\n",
        "                continue\n",
        "            mask = torch.zeros((N,N), dtype=torch.float32)\n",
        "            mask[i,j] = 1.0\n",
        "\n",
        "            link_t = (1 - wwt[i] - wwt[j]) * L[i,j] + \\\n",
        "                      wwt[i] * p[j]\n",
        "            L_t += mask * link_t\n",
        "    return L_t"
      ],
      "metadata": {
        "id": "g-Fp-Zyr8lpV"
      },
      "execution_count": 1,
      "outputs": []
    },
    {
      "cell_type": "code",
      "source": [
        "# sample test code\n",
        "N = 10\n",
        "L = torch.randn((N,N))\n",
        "wwt = torch.randn(N)\n",
        "p = torch.randn(N)\n",
        "\n",
        "L_t = Lt(L, wwt, p, N)"
      ],
      "metadata": {
        "id": "gGxEXcFe8pFd"
      },
      "execution_count": 2,
      "outputs": []
    },
    {
      "cell_type": "code",
      "source": [
        "def Lt(L, wwt, p, N):\n",
        "    \"\"\"\n",
        "    returns the updated link matrix given the previous one along\n",
        "    with the updated write weightings and the previous precedence\n",
        "    vector\n",
        "    \"\"\"\n",
        "    def pairwise_add(v):\n",
        "        \"\"\"\n",
        "        returns the matrix of pairs - adding the elements of v to\n",
        "        themselves\n",
        "        \"\"\"\n",
        "        n = v.shape[0]\n",
        "        # a NxN matrix of duplicates of u along the columns\n",
        "        V = v.repeat(1,n)\n",
        "        return V + V\n",
        "\n",
        "    # expand dimensions of wwt and p to make matmul behave as outer\n",
        "    # product\n",
        "    wwt = torch.unsqueeze(wwt, 1)\n",
        "    p = torch.unsqueeze(p, 0)\n",
        "\n",
        "    I = torch.eye(N, dtype=torch.float32)\n",
        "    return (((1 - pairwise_add(wwt)) * L +\n",
        "             torch.matmul(wwt, p)) * (1 - I))"
      ],
      "metadata": {
        "id": "RiUrrSGF_S-V"
      },
      "execution_count": 3,
      "outputs": []
    },
    {
      "cell_type": "code",
      "source": [
        "# sample test code\n",
        "N = 10\n",
        "L = torch.randn((N,N))\n",
        "wwt = torch.randn(N)\n",
        "p = torch.randn(N)\n",
        "\n",
        "L_t = Lt(L, wwt, p, N)"
      ],
      "metadata": {
        "id": "gRhe00Pn_X-i"
      },
      "execution_count": 4,
      "outputs": []
    },
    {
      "cell_type": "code",
      "source": [
        "# sample test input\n",
        "ut = torch.randn((N))\n",
        "\n",
        "sorted_ut, free_list = torch.topk(-1*ut, N)\n",
        "sorted_ut *= -1"
      ],
      "metadata": {
        "id": "1ZqiwjFz9FEU"
      },
      "execution_count": 5,
      "outputs": []
    },
    {
      "cell_type": "code",
      "source": [
        "# sample test code\n",
        "out_of_location_at = torch.rand(N)\n",
        "\n",
        "empty_at = torch.empty(N)\n",
        "a_t = empty_at.scatter(0, free_list, out_of_location_at)"
      ],
      "metadata": {
        "id": "2VU11cTz9Hv0"
      },
      "execution_count": 6,
      "outputs": []
    },
    {
      "cell_type": "code",
      "source": [
        "# 링크 행렬 업데이트 전후 비교 (교육용 시각화)\n",
        "import matplotlib.pyplot as plt\n",
        "\n",
        "plt.figure(figsize=(6,3))\n",
        "plt.subplot(1,2,1)\n",
        "plt.imshow(L.detach().cpu(), aspect='auto')\n",
        "plt.title(\"Before (L)\"); plt.axis(\"off\")\n",
        "\n",
        "plt.subplot(1,2,2)\n",
        "plt.imshow(Lt(L, wwt, p, N).detach().cpu(), aspect='auto')\n",
        "plt.title(\"After (L_t)\"); plt.axis(\"off\")\n",
        "\n",
        "plt.tight_layout()\n",
        "plt.show()"
      ],
      "metadata": {
        "id": "m4ZhSCOMIjgO",
        "outputId": "8b482c8d-a220-4900-f7dd-763fe2ca2e39",
        "colab": {
          "base_uri": "https://localhost:8080/",
          "height": 307
        }
      },
      "execution_count": 8,
      "outputs": [
        {
          "output_type": "display_data",
          "data": {
            "text/plain": [
              "<Figure size 600x300 with 2 Axes>"
            ],
            "image/png": "[encoded data removed]"
          },
          "metadata": {}
        }
      ]
    },
    {
      "cell_type": "markdown",
      "source": [
        "### 링크 행렬 업데이트 해설\n",
        "\n",
        "- 행렬의 각 원소는 **메모리 슬롯 간 연결 강도(weight)** 를 나타냅니다.  \n",
        "- 값이 클수록 색이 밝아지고(255에 가까움) 값이 작을수록 어두워집니다(0에 가까움).  \n",
        "- **왼쪽 (Before L)**: 과거 연결이 여러 번 누적되어 값이 높아진 부분이 많아 전체적으로 밝게 보입니다.  \n",
        "- **오른쪽 (After L_t)**: 최근 쓰기 정보를 반영하면서 불필요한 연결이 줄고, 핵심 연결만 남아 상대적으로 어두워졌습니다.  \n",
        "- 즉 모델은 메모리를 단순히 저장하는 것이 아니라 **시간적 순서를 반영해 연결을 갱신**하고, 새로운 정보 중심으로 구조를 재편성합니다.\n"
      ],
      "metadata": {
        "id": "acaG0fCGL0fq"
      }
    }
  ]
}
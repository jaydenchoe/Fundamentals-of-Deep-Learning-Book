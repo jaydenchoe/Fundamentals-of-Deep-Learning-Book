{
  "nbformat": 4,
  "nbformat_minor": 0,
  "metadata": {
    "colab": {
      "name": "Ch13_01_RL_Pole_Cart.ipynb",
      "provenance": [],
      "include_colab_link": true
    },
    "kernelspec": {
      "name": "python3",
      "display_name": "Python 3"
    },
    "language_info": {
      "name": "python"
    }
  },
  "cells": [
    {
      "cell_type": "markdown",
      "metadata": {
        "id": "view-in-github",
        "colab_type": "text"
      },
      "source": [
        "<a href=\"https://colab.research.google.com/github/jaydenchoe/Fundamentals-of-Deep-Learning-Book/blob/master/ch13_deep_reinforcement_learning/Ch13_01_RL_Pole_Cart.ipynb\" target=\"_parent\"><img src=\"https://colab.research.google.com/assets/colab-badge.svg\" alt=\"Open In Colab\"/></a>"
      ]
    },
    {
      "cell_type": "markdown",
      "source": [
        "# Markov Decision Processes (MDP)\n",
        "## Future Return"
      ],
      "metadata": {
        "id": "-yGp0pP7LOgu"
      }
    },
    {
      "cell_type": "code",
      "source": [
        "import numpy as np\n",
        "# numpy 2.x compatibility for gym expecting np.bool8\n",
        "if not hasattr(np, 'bool8'):\n",
        "    np.bool8 = np.bool_\n",
        "import random\n",
        "import gym\n",
        "import tqdm\n",
        "import torch\n",
        "import torch.nn as nn\n",
        "\n",
        "# for reproductability\n",
        "torch.manual_seed(0)\n",
        "random.seed(0)"
      ],
      "metadata": {
        "id": "p_lTuUjY_QLg",
        "colab": {
          "base_uri": "https://localhost:8080/"
        },
        "outputId": "0ed01679-7be2-459f-f296-8d5172305942"
      },
      "execution_count": 1,
      "outputs": [
        {
          "output_type": "stream",
          "name": "stderr",
          "text": [
            "Gym has been unmaintained since 2022 and does not support NumPy 2.0 amongst other critical functionality.\n",
            "Please upgrade to Gymnasium, the maintained drop-in replacement of Gym, or contact the authors of your software and request that they upgrade.\n",
            "See the migration guide at https://gymnasium.farama.org/introduction/migration_guide/ for additional information.\n",
            "/usr/local/lib/python3.12/dist-packages/jupyter_client/session.py:151: DeprecationWarning: datetime.datetime.utcnow() is deprecated and scheduled for removal in a future version. Use timezone-aware objects to represent datetimes in UTC: datetime.datetime.now(datetime.UTC).\n",
            "  return datetime.utcnow().replace(tzinfo=utc)\n",
            "/usr/local/lib/python3.12/dist-packages/jupyter_client/session.py:151: DeprecationWarning: datetime.datetime.utcnow() is deprecated and scheduled for removal in a future version. Use timezone-aware objects to represent datetimes in UTC: datetime.datetime.now(datetime.UTC).\n",
            "  return datetime.utcnow().replace(tzinfo=utc)\n"
          ]
        }
      ]
    },
    {
      "cell_type": "code",
      "source": [
        "def calculate_naive_returns(rewards):\n",
        "    \"\"\" Calculates a list of naive returns given a\n",
        "    list of rewards.\"\"\"\n",
        "    total_returns = np.zeros(len(rewards))\n",
        "    total_return = 0.0\n",
        "    for t in range(len(rewards), 0):\n",
        "        total_return = total_return + reward\n",
        "        total_returns[t] = total_return\n",
        "    return total_returns\n",
        "\n",
        "\n",
        "def discount_rewards(rewards, gamma=0.98):\n",
        "    discounted_returns = [0 for _ in rewards]\n",
        "    discounted_returns[-1] = rewards[-1]\n",
        "    # iterate backwards\n",
        "    for t in range(len(rewards)-2, -1, -1):\n",
        "        discounted_returns[t] = (rewards[t] +\n",
        "              discounted_returns[t+1]*gamma)\n",
        "    return discounted_returns\n",
        "\n",
        "def epsilon_greedy_action(action_distribution,\n",
        "                          epsilon=1e-1):\n",
        "    action_distribution = action_distribution.detach().numpy()\n",
        "    if random.random() < epsilon:\n",
        "        return np.argmax(np.random.random(\n",
        "           action_distribution.shape))\n",
        "    else:\n",
        "        return np.argmax(action_distribution)\n",
        "\n",
        "def epsilon_greedy_action_annealed(action_distribution,\n",
        "                                   percentage,\n",
        "                                   epsilon_start=1.0,\n",
        "                                   epsilon_end=1e-2):\n",
        "    action_distribution = action_distribution.detach().numpy()\n",
        "    annealed_epsilon = (epsilon_start*(1.0-percentage) +\n",
        "                        epsilon_end*percentage)\n",
        "    if random.random() < annealed_epsilon:\n",
        "        return np.argmax(np.random.random(\n",
        "          action_distribution.shape))\n",
        "    else:\n",
        "        return np.argmax(action_distribution)"
      ],
      "metadata": {
        "id": "FzfQoWzz_RkV"
      },
      "execution_count": 2,
      "outputs": []
    },
    {
      "cell_type": "markdown",
      "source": [
        "# Pole-Cart with Policy Gradients"
      ],
      "metadata": {
        "id": "PyufQkgboZY3"
      }
    },
    {
      "cell_type": "markdown",
      "source": [
        "## Creating an Agent"
      ],
      "metadata": {
        "id": "1BR54huUoHOG"
      }
    },
    {
      "cell_type": "code",
      "metadata": {
        "id": "UjQX09lMWloJ"
      },
      "source": [
        "from torch import optim\n",
        "class PGAgent(object):\n",
        "    def __init__(self, state_size, num_actions,\n",
        "                 hidden_size,\n",
        "                 learning_rate=1e-3,\n",
        "                 explore_exploit_setting= \\\n",
        "                 'epsilon_greedy_annealed_1.0->0.001'):\n",
        "        self.state_size = state_size\n",
        "        self.num_actions = num_actions\n",
        "        self.hidden_size = hidden_size\n",
        "        self.learning_rate = learning_rate\n",
        "        self.explore_exploit_setting = \\\n",
        "                        explore_exploit_setting\n",
        "        self.build_model()\n",
        "\n",
        "\n",
        "    def build_model(self):\n",
        "      self.model = torch.nn.Sequential(\n",
        "        nn.Linear(self.state_size, self.hidden_size),\n",
        "        nn.Linear(self.hidden_size, self.hidden_size),\n",
        "        nn.Linear(self.hidden_size, self.num_actions),\n",
        "        nn.Softmax(dim=0))\n",
        "\n",
        "    def train(self, state, action_input, reward_input):\n",
        "        state = torch.tensor(state).float()\n",
        "        action_input = torch.tensor(action_input).long()\n",
        "        reward_input = torch.tensor(reward_input).float()\n",
        "        self.output = self.model(state)\n",
        "        # Select the logits related to the action taken\n",
        "        logits_for_actions = self.output.gather(1,action_input.view(-1,1))\n",
        "\n",
        "        self.loss = -torch.mean(\n",
        "            torch.log(logits_for_actions) * reward_input)\n",
        "        self.loss.backward()\n",
        "        self.optimizer = optim.Adam(self.model.parameters())\n",
        "        self.optimizer.step()\n",
        "        self.optimizer.zero_grad()\n",
        "        return self.loss.item()\n",
        "\n",
        "\n",
        "\n",
        "    def sample_action_from_distribution(self,\n",
        "                                        action_distribution,\n",
        "                                        epsilon_percentage):\n",
        "        # Choose an action based on the action probability\n",
        "        # distribution and an explore vs exploit\n",
        "        if self.explore_exploit_setting == 'greedy':\n",
        "              action = epsilon_greedy_action(action_distribution,0.00)\n",
        "        elif self.explore_exploit_setting == 'epsilon_greedy_0.05':\n",
        "              action = epsilon_greedy_action(action_distribution,0.05)\n",
        "        elif self.explore_exploit_setting == 'epsilon_greedy_0.25':\n",
        "              action = epsilon_greedy_action(action_distribution,0.25)\n",
        "        elif self.explore_exploit_setting == 'epsilon_greedy_0.50':\n",
        "              action = epsilon_greedy_action(action_distribution,0.50)\n",
        "        elif self.explore_exploit_setting == 'epsilon_greedy_0.90':\n",
        "              action = epsilon_greedy_action(action_distribution,0.90)\n",
        "        elif self.explore_exploit_setting == \\\n",
        "          'epsilon_greedy_annealed_1.0->0.001':\n",
        "              action = epsilon_greedy_action_annealed(\n",
        "                  action_distribution,\n",
        "                  epsilon_percentage, 1.0,0.001)\n",
        "        elif self.explore_exploit_setting == \\\n",
        "          'epsilon_greedy_annealed_0.5->0.001':\n",
        "              action = epsilon_greedy_action_annealed(\n",
        "                  action_distribution,\n",
        "                  epsilon_percentage, 0.5, 0.001)\n",
        "        elif self.explore_exploit_setting == \\\n",
        "          'epsilon_greedy_annealed_0.25->0.001':\n",
        "              action = epsilon_greedy_action_annealed(\n",
        "                  action_distribution,\n",
        "                  epsilon_percentage, 0.25, 0.001)\n",
        "        return action\n",
        "\n",
        "    def predict_action(self, state, epsilon_percentage):\n",
        "        action_distribution = self.model(torch.from_numpy(state).float())\n",
        "        action = self.sample_action_from_distribution(\n",
        "            action_distribution, epsilon_percentage)\n",
        "        return action"
      ],
      "execution_count": 3,
      "outputs": []
    },
    {
      "cell_type": "markdown",
      "source": [
        "## Keeping Track of History"
      ],
      "metadata": {
        "id": "TfvvUskNohYl"
      }
    },
    {
      "cell_type": "code",
      "source": [
        "class EpisodeHistory(object):\n",
        "\n",
        "    def __init__(self):\n",
        "        self.states = []\n",
        "        self.actions = []\n",
        "        self.rewards = []\n",
        "        self.state_primes = []\n",
        "        self.discounted_returns = []\n",
        "\n",
        "    def add_to_history(self, state, action, reward,\n",
        "      state_prime):\n",
        "        self.states.append(state)\n",
        "        self.actions.append(action)\n",
        "        self.rewards.append(reward)\n",
        "        self.state_primes.append(state_prime)\n",
        "\n",
        "\n",
        "class Memory(object):\n",
        "\n",
        "    def __init__(self):\n",
        "        self.states = []\n",
        "        self.actions = []\n",
        "        self.rewards = []\n",
        "        self.state_primes = []\n",
        "        self.discounted_returns = []\n",
        "\n",
        "    def reset_memory(self):\n",
        "        self.states = []\n",
        "        self.actions = []\n",
        "        self.rewards = []\n",
        "        self.state_primes = []\n",
        "        self.discounted_returns = []\n",
        "\n",
        "    def add_episode(self, episode):\n",
        "        self.states += episode.states\n",
        "        self.actions += episode.actions\n",
        "        self.rewards += episode.rewards\n",
        "        self.discounted_returns += episode.discounted_returns"
      ],
      "metadata": {
        "id": "YAGE0IJR_uX_"
      },
      "execution_count": 4,
      "outputs": []
    },
    {
      "cell_type": "markdown",
      "source": [
        "## Policy Gradient Main Function"
      ],
      "metadata": {
        "id": "xsRN8A9Momgd"
      }
    },
    {
      "cell_type": "code",
      "source": [
        "# Configure Settings\n",
        "#total_episodes = 5000\n",
        "total_episodes = 16\n",
        "total_steps_max = 10000\n",
        "epsilon_stop = 3000\n",
        "train_frequency = 8\n",
        "max_episode_length = 500\n",
        "render_start = -1\n",
        "should_render = False\n",
        "\n",
        "explore_exploit_setting = 'epsilon_greedy_annealed_1.0->0.001'\n",
        "\n",
        "env = gym.make('CartPole-v0')\n",
        "state_size = env.observation_space.shape[0]  # 4 for\n",
        "                                              # CartPole-v0\n",
        "num_actions = env.action_space.n  # 2 for CartPole-v0\n",
        "\n",
        "solved = False\n",
        "agent = PGAgent(state_size=state_size,\n",
        "                num_actions=num_actions,\n",
        "                hidden_size=16,\n",
        "                explore_exploit_setting= \\\n",
        "                  explore_exploit_setting)"
      ],
      "metadata": {
        "id": "_dhvNmQn4lh0",
        "colab": {
          "base_uri": "https://localhost:8080/"
        },
        "outputId": "571c545b-7963-40a5-c424-d6ad7398478e"
      },
      "execution_count": 5,
      "outputs": [
        {
          "output_type": "stream",
          "name": "stderr",
          "text": [
            "/usr/local/lib/python3.12/dist-packages/gym/envs/registration.py:593: UserWarning: \u001b[33mWARN: The environment CartPole-v0 is out of date. You should consider upgrading to version `v1`.\u001b[0m\n",
            "  logger.warn(\n",
            "/usr/local/lib/python3.12/dist-packages/gym/core.py:317: DeprecationWarning: \u001b[33mWARN: Initializing wrapper in old step API which returns one bool instead of two. It is recommended to set `new_step_api=True` to use new step API. This will be the default behaviour in future.\u001b[0m\n",
            "  deprecation(\n",
            "/usr/local/lib/python3.12/dist-packages/gym/wrappers/step_api_compatibility.py:39: DeprecationWarning: \u001b[33mWARN: Initializing environment in old step API which returns one bool instead of two. It is recommended to set `new_step_api=True` to use new step API. This will be the default behaviour in future.\u001b[0m\n",
            "  deprecation(\n"
          ]
        }
      ]
    },
    {
      "cell_type": "code",
      "source": [
        "episode_rewards = []\n",
        "batch_losses = []\n",
        "\n",
        "global_memory = Memory()\n",
        "steps = 0\n",
        "for i in range(total_episodes):\n",
        "  state = env.reset()\n",
        "  episode_reward = 0.0\n",
        "  episode_history = EpisodeHistory()\n",
        "  epsilon_percentage = float(min(i/float(epsilon_stop), 1.0))\n",
        "\n",
        "  for j in range(max_episode_length):\n",
        "      action = agent.predict_action(state, epsilon_percentage)\n",
        "      state_prime, reward, terminal, _ = env.step(action)\n",
        "\n",
        "      episode_history.add_to_history(\n",
        "          state, action, reward, state_prime)\n",
        "      state = state_prime\n",
        "      episode_reward += reward\n",
        "      steps += 1\n",
        "\n",
        "      if j == (max_episode_length - 1):\n",
        "            terminal = True\n",
        "\n",
        "      if terminal:\n",
        "          episode_history.discounted_returns = \\\n",
        "            discount_rewards(episode_history.rewards)\n",
        "          global_memory.add_episode(episode_history)\n",
        "\n",
        "          # every 8th episode train the NN\n",
        "          # train on all actions from episodes in memory, then reset memory\n",
        "          if np.mod(i, train_frequency) == 0:\n",
        "            reward_input = global_memory.discounted_returns\n",
        "            action_input = global_memory.actions\n",
        "            state = global_memory.states\n",
        "\n",
        "            # train step\n",
        "            batch_loss = agent.train(state, action_input, reward_input)\n",
        "              # print(f'Batch loss: {batch_loss}')\n",
        "              # batch_losses.append(batch_loss)\n",
        "            global_memory.reset_memory()\n",
        "\n",
        "          episode_rewards.append(episode_reward)\n",
        "\n",
        "          if i % 10 == 0:\n",
        "              mean_rewards = torch.mean(torch.tensor(episode_rewards[:-10]))\n",
        "              if mean_rewards > 10.0:\n",
        "                  solved = True\n",
        "              else:\n",
        "                  solved = False\n",
        "              print(f'Solved: {solved} Mean Reward: {mean_rewards}')\n",
        "          break # stop playing if terminal\n",
        "\n",
        "  print(f'Episode[{i}]: {len(episode_history.actions)} \\\n",
        "          actions {episode_reward} reward')"
      ],
      "metadata": {
        "id": "LS7KWo07_61i",
        "colab": {
          "base_uri": "https://localhost:8080/"
        },
        "outputId": "65434a4f-0902-4784-ed91-2a03f7253046"
      },
      "execution_count": 6,
      "outputs": [
        {
          "output_type": "stream",
          "name": "stderr",
          "text": [
            "/tmp/ipython-input-1637880809.py:25: UserWarning: Creating a tensor from a list of numpy.ndarrays is extremely slow. Please consider converting the list to a single numpy.ndarray with numpy.array() before converting to a tensor. (Triggered internally at /pytorch/torch/csrc/utils/tensor_new.cpp:253.)\n",
            "  state = torch.tensor(state).float()\n"
          ]
        },
        {
          "output_type": "stream",
          "name": "stdout",
          "text": [
            "Solved: False Mean Reward: nan\n",
            "Episode[0]: 28           actions 28.0 reward\n",
            "Episode[1]: 65           actions 65.0 reward\n",
            "Episode[2]: 14           actions 14.0 reward\n",
            "Episode[3]: 30           actions 30.0 reward\n",
            "Episode[4]: 30           actions 30.0 reward\n",
            "Episode[5]: 13           actions 13.0 reward\n",
            "Episode[6]: 26           actions 26.0 reward\n",
            "Episode[7]: 16           actions 16.0 reward\n",
            "Episode[8]: 34           actions 34.0 reward\n",
            "Episode[9]: 17           actions 17.0 reward\n",
            "Solved: True Mean Reward: 28.0\n",
            "Episode[10]: 25           actions 25.0 reward\n",
            "Episode[11]: 45           actions 45.0 reward\n",
            "Episode[12]: 25           actions 25.0 reward\n",
            "Episode[13]: 34           actions 34.0 reward\n",
            "Episode[14]: 10           actions 10.0 reward\n",
            "Episode[15]: 29           actions 29.0 reward\n"
          ]
        },
        {
          "output_type": "stream",
          "name": "stderr",
          "text": [
            "/usr/local/lib/python3.12/dist-packages/jupyter_client/session.py:151: DeprecationWarning: datetime.datetime.utcnow() is deprecated and scheduled for removal in a future version. Use timezone-aware objects to represent datetimes in UTC: datetime.datetime.now(datetime.UTC).\n",
            "  return datetime.utcnow().replace(tzinfo=utc)\n"
          ]
        }
      ]
    },
    {
      "cell_type": "code",
      "source": [
        "# 보상 곡선 + 1에피소드 데모\n",
        "import matplotlib.pyplot as plt, numpy as np, torch\n",
        "\n",
        "plt.plot(episode_rewards, label='reward')\n",
        "if len(episode_rewards) >= 20:\n",
        "    ma = np.convolve(episode_rewards, np.ones(20)/20, 'valid')\n",
        "    plt.plot(range(19,19+len(ma)), ma, label='MA(20)')\n",
        "plt.legend(); plt.show()\n",
        "\n",
        "s = env.reset(); s = s[0] if isinstance(s, tuple) else s\n",
        "done, ret = False, 0\n",
        "while not done:\n",
        "    a = agent.model(torch.from_numpy(s).float()).argmax().item()\n",
        "    out = env.step(a)\n",
        "    s,r,done = (out[0],out[1],out[2] or out[3]) if len(out)==5 else (out[0],out[1],out[2])\n",
        "    ret += r\n",
        "print(\"Demo return:\", ret)\n"
      ],
      "metadata": {
        "id": "mSEVscRR_y6w",
        "colab": {
          "base_uri": "https://localhost:8080/",
          "height": 448
        },
        "outputId": "78f69f0d-5e7b-45e6-bb83-69d8bfac51c2"
      },
      "execution_count": 46,
      "outputs": [
        {
          "output_type": "display_data",
          "data": {
            "text/plain": [
              "<Figure size 640x480 with 1 Axes>"
            ],
            "image/png": "[encoded data removed]"
          },
          "metadata": {}
        },
        {
          "output_type": "stream",
          "name": "stdout",
          "text": [
            "Demo return: 13.0\n"
          ]
        }
      ]
    },
    {
      "cell_type": "markdown",
      "source": [
        "### 설명\n",
        "위 그래프는 각 에피소드별 보상을 나타낸 것입니다.  \n",
        "현재는 `total_episodes = 16`으로 학습 횟수가 적어 보상이 들쭉날쭉하며,  \n",
        "마지막 데모 실행에서도 총 리턴이 14로 낮게 나타났습니다.  \n",
        "\n",
        "CartPole 문제는 에피소드 최대 200 스텝까지 버티는 것이 목표이므로,  \n",
        "훈련 에피소드 수를 수천 회 이상으로 늘리면 보상 그래프가 점차 상승하고  \n",
        "데모 리턴도 200에 가까워지는 것을 확인할 수 있습니다.  "
      ],
      "metadata": {
        "id": "2meMst45PWUL"
      }
    }
  ]
}